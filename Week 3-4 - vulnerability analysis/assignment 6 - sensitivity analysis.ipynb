{
 "cells": [
  {
   "cell_type": "markdown",
   "metadata": {},
   "source": [
    "# EPA1361 - Model-Based Decision Making\n",
    "# Week 3 - Sensitivity analysis\n",
    "\n",
    "This exercise uses the same predator-prey model we used for the multi-model exercise, focusing on the Python version. As with the other exercise, define a model object for the function below, with the uncertainty ranges provided:\n",
    "\n",
    "|Parameter\t|Range or value\t        |\n",
    "|-----------|--------------:|\n",
    "|prey_birth_rate    \t|0.015 – 0.035\t|\n",
    "|predation_rate|0.0005 – 0.003 \t|\n",
    "|predator_efficiency     \t|0.001 – 0.004\t    |\n",
    "|predator_loss_rate\t    |0.04 – 0.08\t    |\n",
    "\n",
    "* Sensitivity analysis often focuses on the final values of an outcome at the end of the simulation. However, we can also look at metrics that give us additional information about the behavior of the model over time. Using [the statsmodel library](https://www.statsmodels.org/stable/index.html) and an appropriate sampling design, fit a linear regression model for each of the following indicators. What can we conclude about the behavior of the model, and about the importance of the different inputs?\n",
    "\n",
    "  * The final values of the _prey_ outcome\n",
    "  * The mean values of the _prey_ outcome over time, within each experiment\n",
    "  * The standard deviations of the _prey_ outcome over time, within each experiment\n",
    "  \n",
    "\n",
    "* Use the Sobol sampling functionality included in the Workbench to perform experiments with a sample size of N=50, then analyze the results with SALib for the same three indicators. This requires specifying the keyword argument `'uncertainty_sampling'` of perform_experiments. Note that when using Sobol sampling, the meaning of the keyword argument `scenarios` changes a bit. In order to properly estimate Sobol scores as well as interaction effects, you require N * (2D+2) scenarios, where D is the number of uncertain parameters, and N is the value for scenarios passed to `perform_experiments`. Repeat the analysis for larger sample sizes, with N=250 and N=1000. How can we interpret the first-order and total indices? Are these sample sizes sufficient for a stable estimation of the indices? You'll need to use the [get_SALib_problem](https://emaworkbench.readthedocs.io/en/latest/ema_documentation/em_framework/salib_samplers.html) function to convert your Workbench experiments to a problem definition that you can pass to the SALib analysis function. \n",
    "\n",
    "* *hint*: sobol is a deterministic sequence of quasi random numbers. Thus, you can run with N=1000 and simply slice for 1:50 and 1:250.\n",
    "\n",
    "* Use the [Extra-Trees analysis](https://emaworkbench.readthedocs.io/en/latest/ema_documentation/analysis/feature_scoring.html) included in the Workbench to approximate the Sobol total indices, with a suitable sampling design. As a starting point, use an ensemble of 100 trees and a max_features parameter of 0.6, and set the analysis to regression mode. Are the estimated importances stable relative to the sample size and the analysis parameters? How do the results compare to the Sobol indices? For more details on this analysis see [Jaxa-Rozen & Kwakkel (2018)](https://www.sciencedirect.com/science/article/pii/S1364815217311581)"
   ]
  },
  {
   "cell_type": "code",
   "execution_count": 1,
   "metadata": {},
   "outputs": [],
   "source": [
    "# pip install Platypus-Opt\n",
    "# pip install SALib"
   ]
  },
  {
   "cell_type": "code",
   "execution_count": 43,
   "metadata": {
    "jupyter": {
     "outputs_hidden": false
    }
   },
   "outputs": [],
   "source": [
    "import numpy as np\n",
    "import matplotlib.pyplot as plt\n",
    "\n",
    "from ema_workbench import (Model, RealParameter, TimeSeriesOutcome, perform_experiments, ema_logging)\n",
    "\n",
    "from ema_workbench.em_framework.evaluators import LHS, SOBOL, MORRIS\n",
    "\n",
    "from ema_workbench.analysis import feature_scoring\n",
    "from ema_workbench.analysis.scenario_discovery_util import RuleInductionType\n",
    "from ema_workbench.em_framework.salib_samplers import get_SALib_problem\n",
    "from SALib.analyze import sobol\n",
    "\n",
    "def pred_prey(prey_birth_rate=0.025, predation_rate=0.0015, predator_efficiency=0.002,\n",
    "             predator_loss_rate=0.06, initial_prey=50, initial_predators=20, dt=0.25, \n",
    "             final_time=365, reps=1):\n",
    "\n",
    "    #Initial values\n",
    "    predators = np.zeros((reps, int(final_time/dt)+1))\n",
    "    prey = np.zeros((reps, int(final_time/dt)+1))\n",
    "    sim_time = np.zeros((reps, int(final_time/dt)+1))\n",
    "    \n",
    "    for r in range(reps):\n",
    "\n",
    "        predators[r,0] = initial_predators\n",
    "        prey[r,0] = initial_prey\n",
    "\n",
    "    #Calculate the time series\n",
    "    for t in range(0, sim_time.shape[1]-1):\n",
    "\n",
    "        dx = (prey_birth_rate*prey[r,t]) - (predation_rate*prey[r,t]*predators[r,t])\n",
    "        dy = (predator_efficiency*predators[r,t]*prey[r,t]) - (predator_loss_rate*predators[r,t])\n",
    "\n",
    "        prey[r,t+1] = max(prey[r,t] + dx*dt, 0)\n",
    "        predators[r,t+1] = max(predators[r,t] + dy*dt, 0)\n",
    "        sim_time[r,t+1] = (t+1)*dt\n",
    "    \n",
    "    #Return outcomes\n",
    "    return {'TIME':sim_time,\n",
    "            'predators':predators,\n",
    "            'prey':prey}"
   ]
  },
  {
   "cell_type": "code",
   "execution_count": 3,
   "metadata": {},
   "outputs": [
    {
     "name": "stderr",
     "output_type": "stream",
     "text": [
      "[MainProcess/INFO] performing 50 scenarios * 1 policies * 1 model(s) = 50 experiments\n",
      "[MainProcess/INFO] performing experiments sequentially\n",
      "[MainProcess/INFO] 5 cases completed\n",
      "[MainProcess/INFO] 10 cases completed\n",
      "[MainProcess/INFO] 15 cases completed\n",
      "[MainProcess/INFO] 20 cases completed\n",
      "[MainProcess/INFO] 25 cases completed\n",
      "[MainProcess/INFO] 30 cases completed\n",
      "[MainProcess/INFO] 35 cases completed\n",
      "[MainProcess/INFO] 40 cases completed\n",
      "[MainProcess/INFO] 45 cases completed\n",
      "[MainProcess/INFO] 50 cases completed\n",
      "[MainProcess/INFO] experiments finished\n"
     ]
    }
   ],
   "source": [
    "ema_logging.log_to_stderr(ema_logging.INFO)\n",
    "\n",
    "# defining model\n",
    "model = Model('PredPreyPython', function=pred_prey)\n",
    "\n",
    "# defining uncertainties\n",
    "model.uncertainties = [RealParameter('prey_birth_rate', 0.015, 0.035),\n",
    "                       RealParameter('predation_rate', 0.0005, 0.003),\n",
    "                       RealParameter('predator_efficiency', 0.001, 0.004),\n",
    "                       RealParameter('predator_loss_rate', 0.04, 0.08)]\n",
    "\n",
    "# model outcomes\n",
    "model.outcomes = [TimeSeriesOutcome('TIME', function=np.squeeze),\n",
    "                  TimeSeriesOutcome('predators', function=np.squeeze),\n",
    "                  TimeSeriesOutcome('prey', function=np.squeeze)]\n",
    "\n",
    "#scenarios\n",
    "nr_experiments = 50\n",
    "\n",
    "#Using Latin Hypercube sampling\n",
    "experiments, outcomes = perform_experiments(model,\n",
    "                                  nr_experiments, uncertainty_sampling=LHS)\n",
    "\n",
    "#clean experiments\n",
    "cleaned = experiments.loc[:, [u.name for u in model.uncertainties]]"
   ]
  },
  {
   "cell_type": "code",
   "execution_count": 5,
   "metadata": {},
   "outputs": [],
   "source": [
    "import statistics\n",
    "\n",
    "# select data for linear regression\n",
    "\n",
    "#prey outcome or dependent variable y\n",
    "y_final = outcomes['prey'][:,-1]\n",
    "y_mean = outcomes['prey'].mean(axis=1)\n",
    "y_stdev = outcomes['prey'].std(axis=1)\n",
    "\n",
    "\n",
    "# inputs\n",
    "x = cleaned[['prey_birth_rate', 'predation_rate', 'predator_efficiency', 'predator_loss_rate']].to_numpy()\n"
   ]
  },
  {
   "cell_type": "markdown",
   "metadata": {},
   "source": [
    "- Error below being caused by mismatch of sizes, we should ask what it is that we need to compare.. not sure how to do this?\n",
    "- Fixed this by taking outcomes['prey'][:,-1] because it asked for the final results, the other one contained all time steps\n",
    "- Next question, how to make it multiple regression so all four indicators at once?"
   ]
  },
  {
   "cell_type": "code",
   "execution_count": 6,
   "metadata": {},
   "outputs": [
    {
     "name": "stdout",
     "output_type": "stream",
     "text": [
      "Results final\n",
      "                                 OLS Regression Results                                \n",
      "=======================================================================================\n",
      "Dep. Variable:                      y   R-squared (uncentered):                   0.726\n",
      "Model:                            OLS   Adj. R-squared (uncentered):              0.703\n",
      "Method:                 Least Squares   F-statistic:                              30.53\n",
      "Date:                Mon, 10 May 2021   Prob (F-statistic):                    2.01e-12\n",
      "Time:                        08:47:12   Log-Likelihood:                         -217.22\n",
      "No. Observations:                  50   AIC:                                      442.4\n",
      "Df Residuals:                      46   BIC:                                      450.1\n",
      "Df Model:                           4                                                  \n",
      "Covariance Type:            nonrobust                                                  \n",
      "==============================================================================\n",
      "                 coef    std err          t      P>|t|      [0.025      0.975]\n",
      "------------------------------------------------------------------------------\n",
      "x1          1114.4459    453.221      2.459      0.018     202.159    2026.732\n",
      "x2          1947.0616   3610.037      0.539      0.592   -5319.566    9213.689\n",
      "x3          -1.59e+04   3215.788     -4.943      0.000   -2.24e+04   -9422.073\n",
      "x4           578.2810    163.223      3.543      0.001     249.731     906.831\n",
      "==============================================================================\n",
      "Omnibus:                        9.263   Durbin-Watson:                   1.952\n",
      "Prob(Omnibus):                  0.010   Jarque-Bera (JB):                8.700\n",
      "Skew:                           0.844   Prob(JB):                       0.0129\n",
      "Kurtosis:                       4.151   Cond. No.                         87.8\n",
      "==============================================================================\n",
      "\n",
      "Notes:\n",
      "[1] R² is computed without centering (uncentered) since the model does not contain a constant.\n",
      "[2] Standard Errors assume that the covariance matrix of the errors is correctly specified.\n",
      "\n",
      "Results mean\n",
      "                                 OLS Regression Results                                \n",
      "=======================================================================================\n",
      "Dep. Variable:                      y   R-squared (uncentered):                   0.964\n",
      "Model:                            OLS   Adj. R-squared (uncentered):              0.961\n",
      "Method:                 Least Squares   F-statistic:                              308.8\n",
      "Date:                Mon, 10 May 2021   Prob (F-statistic):                    1.36e-32\n",
      "Time:                        08:47:12   Log-Likelihood:                         -158.94\n",
      "No. Observations:                  50   AIC:                                      325.9\n",
      "Df Residuals:                      46   BIC:                                      333.5\n",
      "Df Model:                           4                                                  \n",
      "Covariance Type:            nonrobust                                                  \n",
      "==============================================================================\n",
      "                 coef    std err          t      P>|t|      [0.025      0.975]\n",
      "------------------------------------------------------------------------------\n",
      "x1           314.8938    141.286      2.229      0.031      30.500     599.287\n",
      "x2           968.8442   1125.382      0.861      0.394   -1296.432    3234.121\n",
      "x3         -1.228e+04   1002.480    -12.247      0.000   -1.43e+04   -1.03e+04\n",
      "x4           795.3287     50.883     15.631      0.000     692.908     897.750\n",
      "==============================================================================\n",
      "Omnibus:                        9.917   Durbin-Watson:                   1.542\n",
      "Prob(Omnibus):                  0.007   Jarque-Bera (JB):                9.937\n",
      "Skew:                           0.830   Prob(JB):                      0.00695\n",
      "Kurtosis:                       4.419   Cond. No.                         87.8\n",
      "==============================================================================\n",
      "\n",
      "Notes:\n",
      "[1] R² is computed without centering (uncentered) since the model does not contain a constant.\n",
      "[2] Standard Errors assume that the covariance matrix of the errors is correctly specified.\n",
      "\n",
      "Results stdev\n",
      "                                 OLS Regression Results                                \n",
      "=======================================================================================\n",
      "Dep. Variable:                      y   R-squared (uncentered):                   0.953\n",
      "Model:                            OLS   Adj. R-squared (uncentered):              0.949\n",
      "Method:                 Least Squares   F-statistic:                              233.3\n",
      "Date:                Mon, 10 May 2021   Prob (F-statistic):                    6.49e-30\n",
      "Time:                        08:47:12   Log-Likelihood:                         -131.69\n",
      "No. Observations:                  50   AIC:                                      271.4\n",
      "Df Residuals:                      46   BIC:                                      279.0\n",
      "Df Model:                           4                                                  \n",
      "Covariance Type:            nonrobust                                                  \n",
      "==============================================================================\n",
      "                 coef    std err          t      P>|t|      [0.025      0.975]\n",
      "------------------------------------------------------------------------------\n",
      "x1           163.3491     81.928      1.994      0.052      -1.564     328.262\n",
      "x2          1819.7962    652.581      2.789      0.008     506.219    3133.374\n",
      "x3           245.9839    581.313      0.423      0.674    -924.139    1416.107\n",
      "x4           119.0272     29.506      4.034      0.000      59.636     178.419\n",
      "==============================================================================\n",
      "Omnibus:                       10.003   Durbin-Watson:                   1.803\n",
      "Prob(Omnibus):                  0.007   Jarque-Bera (JB):               10.422\n",
      "Skew:                           0.801   Prob(JB):                      0.00546\n",
      "Kurtosis:                       4.562   Cond. No.                         87.8\n",
      "==============================================================================\n",
      "\n",
      "Notes:\n",
      "[1] R² is computed without centering (uncentered) since the model does not contain a constant.\n",
      "[2] Standard Errors assume that the covariance matrix of the errors is correctly specified.\n"
     ]
    }
   ],
   "source": [
    "# fit a linear regression model for each of the following indicators\n",
    "import statsmodels.api as sm\n",
    "import statsmodels.formula.api as smf\n",
    "\n",
    "# The final values of the prey outcome\n",
    "\n",
    "# Fit regression model\n",
    "results_final = sm.OLS(y_final, x).fit()\n",
    "results_mean = sm.OLS(y_mean, x).fit()\n",
    "results_stdev = sm.OLS(y_stdev, x).fit()\n",
    "\n",
    "# Inspect the results\n",
    "print('Results final')\n",
    "print(results_final.summary())\n",
    "print('\\nResults mean')\n",
    "print(results_mean.summary())\n",
    "print('\\nResults stdev')\n",
    "print(results_stdev.summary())\n",
    "\n",
    "# The mean values of the prey outcome over time, within each experiment\n",
    "\n",
    "# The standard deviations of the prey outcome over time, within each experiment\n"
   ]
  },
  {
   "cell_type": "markdown",
   "metadata": {},
   "source": [
    "The above regression results show that the different inputs are very influential for the final results, as the R-squared values are all around 0.9."
   ]
  },
  {
   "cell_type": "code",
   "execution_count": 39,
   "metadata": {},
   "outputs": [
    {
     "name": "stderr",
     "output_type": "stream",
     "text": [
      "C:\\ProgramData\\Anaconda3\\lib\\site-packages\\SALib\\sample\\saltelli.py:52: FutureWarning: \n",
      "        Convergence properties of the Sobol' sequence is only valid if `N` = 2^n.\n",
      "        SALib will continue on, but results may have issues.\n",
      "        In future, this will raise an error.\n",
      "        \n",
      "  warnings.warn(msg, FutureWarning)\n",
      "[MainProcess/INFO] performing 10000 scenarios * 1 policies * 1 model(s) = 10000 experiments\n",
      "[MainProcess/INFO] performing experiments sequentially\n",
      "[MainProcess/INFO] 1000 cases completed\n",
      "[MainProcess/INFO] 2000 cases completed\n",
      "[MainProcess/INFO] 3000 cases completed\n",
      "[MainProcess/INFO] 4000 cases completed\n",
      "[MainProcess/INFO] 5000 cases completed\n",
      "[MainProcess/INFO] 6000 cases completed\n",
      "[MainProcess/INFO] 7000 cases completed\n",
      "[MainProcess/INFO] 8000 cases completed\n",
      "[MainProcess/INFO] 9000 cases completed\n",
      "[MainProcess/INFO] 10000 cases completed\n",
      "[MainProcess/INFO] experiments finished\n"
     ]
    }
   ],
   "source": [
    "#Using Sobol sampling\n",
    "experiments_sobol, outcomes_sobol = perform_experiments(model,\n",
    "                                  scenarios = 1000, uncertainty_sampling='sobol')\n",
    "\n",
    "problem = get_SALib_problem(model.uncertainties)"
   ]
  },
  {
   "cell_type": "code",
   "execution_count": 61,
   "metadata": {},
   "outputs": [
    {
     "data": {
      "text/html": [
       "<div>\n",
       "<style scoped>\n",
       "    .dataframe tbody tr th:only-of-type {\n",
       "        vertical-align: middle;\n",
       "    }\n",
       "\n",
       "    .dataframe tbody tr th {\n",
       "        vertical-align: top;\n",
       "    }\n",
       "\n",
       "    .dataframe thead th {\n",
       "        text-align: right;\n",
       "    }\n",
       "</style>\n",
       "<table border=\"1\" class=\"dataframe\">\n",
       "  <thead>\n",
       "    <tr style=\"text-align: right;\">\n",
       "      <th></th>\n",
       "      <th>ST</th>\n",
       "      <th>ST_conf</th>\n",
       "      <th>S1</th>\n",
       "      <th>S1_conf</th>\n",
       "    </tr>\n",
       "  </thead>\n",
       "  <tbody>\n",
       "    <tr>\n",
       "      <th>predation_rate</th>\n",
       "      <td>0.133270</td>\n",
       "      <td>0.024866</td>\n",
       "      <td>-0.005501</td>\n",
       "      <td>0.030122</td>\n",
       "    </tr>\n",
       "    <tr>\n",
       "      <th>predator_efficiency</th>\n",
       "      <td>0.802208</td>\n",
       "      <td>0.085700</td>\n",
       "      <td>0.389513</td>\n",
       "      <td>0.071978</td>\n",
       "    </tr>\n",
       "    <tr>\n",
       "      <th>predator_loss_rate</th>\n",
       "      <td>0.588389</td>\n",
       "      <td>0.074408</td>\n",
       "      <td>0.076746</td>\n",
       "      <td>0.063471</td>\n",
       "    </tr>\n",
       "    <tr>\n",
       "      <th>prey_birth_rate</th>\n",
       "      <td>0.503150</td>\n",
       "      <td>0.055594</td>\n",
       "      <td>0.013768</td>\n",
       "      <td>0.058156</td>\n",
       "    </tr>\n",
       "  </tbody>\n",
       "</table>\n",
       "</div>"
      ],
      "text/plain": [
       "                           ST   ST_conf        S1   S1_conf\n",
       "predation_rate       0.133270  0.024866 -0.005501  0.030122\n",
       "predator_efficiency  0.802208  0.085700  0.389513  0.071978\n",
       "predator_loss_rate   0.588389  0.074408  0.076746  0.063471\n",
       "prey_birth_rate      0.503150  0.055594  0.013768  0.058156"
      ]
     },
     "execution_count": 61,
     "metadata": {},
     "output_type": "execute_result"
    }
   ],
   "source": [
    "# Sobol for 1000 experiments\n",
    "Si_1000 = sobol.analyze(problem, outcomes_sobol['prey'][:,-1], calc_second_order = True)\n",
    "\n",
    "import pandas as pd\n",
    "\n",
    "Si_filter = {k:Si_1000[k] for k in ['ST','ST_conf','S1','S1_conf']}\n",
    "Si_df_1000 = pd.DataFrame(Si_filter, index=problem['names'])\n",
    "Si_df_1000"
   ]
  },
  {
   "cell_type": "code",
   "execution_count": 26,
   "metadata": {},
   "outputs": [
    {
     "data": {
      "text/html": [
       "<div>\n",
       "<style scoped>\n",
       "    .dataframe tbody tr th:only-of-type {\n",
       "        vertical-align: middle;\n",
       "    }\n",
       "\n",
       "    .dataframe tbody tr th {\n",
       "        vertical-align: top;\n",
       "    }\n",
       "\n",
       "    .dataframe thead th {\n",
       "        text-align: right;\n",
       "    }\n",
       "</style>\n",
       "<table border=\"1\" class=\"dataframe\">\n",
       "  <thead>\n",
       "    <tr style=\"text-align: right;\">\n",
       "      <th></th>\n",
       "      <th>ST</th>\n",
       "      <th>ST_conf</th>\n",
       "      <th>S1</th>\n",
       "      <th>S1_conf</th>\n",
       "    </tr>\n",
       "  </thead>\n",
       "  <tbody>\n",
       "    <tr>\n",
       "      <th>predation_rate</th>\n",
       "      <td>0.130378</td>\n",
       "      <td>0.045374</td>\n",
       "      <td>0.048499</td>\n",
       "      <td>0.054881</td>\n",
       "    </tr>\n",
       "    <tr>\n",
       "      <th>predator_efficiency</th>\n",
       "      <td>0.828789</td>\n",
       "      <td>0.158450</td>\n",
       "      <td>0.304229</td>\n",
       "      <td>0.149482</td>\n",
       "    </tr>\n",
       "    <tr>\n",
       "      <th>predator_loss_rate</th>\n",
       "      <td>0.591507</td>\n",
       "      <td>0.146550</td>\n",
       "      <td>0.046391</td>\n",
       "      <td>0.148031</td>\n",
       "    </tr>\n",
       "    <tr>\n",
       "      <th>prey_birth_rate</th>\n",
       "      <td>0.534731</td>\n",
       "      <td>0.127211</td>\n",
       "      <td>-0.059485</td>\n",
       "      <td>0.120372</td>\n",
       "    </tr>\n",
       "  </tbody>\n",
       "</table>\n",
       "</div>"
      ],
      "text/plain": [
       "                           ST   ST_conf        S1   S1_conf\n",
       "predation_rate       0.130378  0.045374  0.048499  0.054881\n",
       "predator_efficiency  0.828789  0.158450  0.304229  0.149482\n",
       "predator_loss_rate   0.591507  0.146550  0.046391  0.148031\n",
       "prey_birth_rate      0.534731  0.127211 -0.059485  0.120372"
      ]
     },
     "execution_count": 26,
     "metadata": {},
     "output_type": "execute_result"
    }
   ],
   "source": [
    "# Slice sampling for 250\n",
    "Si_250 = sobol.analyze(problem, outcomes_sobol['prey'][:,-1][0:2500], calc_second_order = True)\n",
    "\n",
    "Si_filter = {k:Si_250[k] for k in ['ST','ST_conf','S1','S1_conf']}\n",
    "Si_df_250 = pd.DataFrame(Si_filter, index=problem['names'])\n",
    "Si_df_250"
   ]
  },
  {
   "cell_type": "code",
   "execution_count": 28,
   "metadata": {},
   "outputs": [
    {
     "data": {
      "text/html": [
       "<div>\n",
       "<style scoped>\n",
       "    .dataframe tbody tr th:only-of-type {\n",
       "        vertical-align: middle;\n",
       "    }\n",
       "\n",
       "    .dataframe tbody tr th {\n",
       "        vertical-align: top;\n",
       "    }\n",
       "\n",
       "    .dataframe thead th {\n",
       "        text-align: right;\n",
       "    }\n",
       "</style>\n",
       "<table border=\"1\" class=\"dataframe\">\n",
       "  <thead>\n",
       "    <tr style=\"text-align: right;\">\n",
       "      <th></th>\n",
       "      <th>ST</th>\n",
       "      <th>ST_conf</th>\n",
       "      <th>S1</th>\n",
       "      <th>S1_conf</th>\n",
       "    </tr>\n",
       "  </thead>\n",
       "  <tbody>\n",
       "    <tr>\n",
       "      <th>predation_rate</th>\n",
       "      <td>0.124075</td>\n",
       "      <td>0.085909</td>\n",
       "      <td>0.034042</td>\n",
       "      <td>0.106706</td>\n",
       "    </tr>\n",
       "    <tr>\n",
       "      <th>predator_efficiency</th>\n",
       "      <td>0.963626</td>\n",
       "      <td>0.417180</td>\n",
       "      <td>0.442605</td>\n",
       "      <td>0.339904</td>\n",
       "    </tr>\n",
       "    <tr>\n",
       "      <th>predator_loss_rate</th>\n",
       "      <td>0.618595</td>\n",
       "      <td>0.341650</td>\n",
       "      <td>0.069217</td>\n",
       "      <td>0.216244</td>\n",
       "    </tr>\n",
       "    <tr>\n",
       "      <th>prey_birth_rate</th>\n",
       "      <td>0.576145</td>\n",
       "      <td>0.256292</td>\n",
       "      <td>-0.167380</td>\n",
       "      <td>0.339384</td>\n",
       "    </tr>\n",
       "  </tbody>\n",
       "</table>\n",
       "</div>"
      ],
      "text/plain": [
       "                           ST   ST_conf        S1   S1_conf\n",
       "predation_rate       0.124075  0.085909  0.034042  0.106706\n",
       "predator_efficiency  0.963626  0.417180  0.442605  0.339904\n",
       "predator_loss_rate   0.618595  0.341650  0.069217  0.216244\n",
       "prey_birth_rate      0.576145  0.256292 -0.167380  0.339384"
      ]
     },
     "execution_count": 28,
     "metadata": {},
     "output_type": "execute_result"
    }
   ],
   "source": [
    "# Slice sampling for 50\n",
    "Si_50 = sobol.analyze(problem, outcomes_sobol['prey'][:,-1][0:500], calc_second_order = True)\n",
    "\n",
    "Si_filter = {k:Si_50[k] for k in ['ST','ST_conf','S1','S1_conf']}\n",
    "Si_df_50 = pd.DataFrame(Si_filter, index=problem['names'])\n",
    "Si_df_50"
   ]
  },
  {
   "cell_type": "markdown",
   "metadata": {},
   "source": [
    "Confidence interval is lower with a higher sample size - sensitive parameters should have narrow confidence intervals, which are less than 10% of the sensitivity indices. This is almost the case for ST using 1000 samples, however not the case for S1 or smaller sample sizes\n",
    "\n",
    "Therefore better to increase the number of samples"
   ]
  },
  {
   "cell_type": "code",
   "execution_count": 59,
   "metadata": {},
   "outputs": [
    {
     "name": "stderr",
     "output_type": "stream",
     "text": [
      "[MainProcess/INFO] policy dropped from analysis because only a single category\n",
      "[MainProcess/INFO] model dropped from analysis because only a single category\n"
     ]
    },
    {
     "name": "stdout",
     "output_type": "stream",
     "text": [
      "                            1\n",
      "0                            \n",
      "predator_efficiency  0.515441\n",
      "predator_loss_rate   0.221733\n",
      "prey_birth_rate      0.209779\n",
      "predation_rate       0.053046 ExtraTreesRegressor(bootstrap=True, max_features=0.6, min_samples_leaf=3,\n",
      "                    min_weight_fraction_leaf=0, oob_score=True)\n"
     ]
    },
    {
     "data": {
      "image/png": "[encoded data removed]",
      "text/plain": [
       "<Figure size 432x288 with 2 Axes>"
      ]
     },
     "metadata": {
      "needs_background": "light"
     },
     "output_type": "display_data"
    }
   ],
   "source": [
    "# use an ensemble of 100 trees and a max_features parameter of 0.6, \n",
    "# and set the analysis to regression mode\n",
    "\n",
    "#fs = feature_scoring.get_ex_feature_scores(experiments_sobol, outcomes_sobol['prey'][:,-1], mode= RuleInductionType.REGRESSION, nr_trees = 100, max_features = 0.6)\n",
    "\n",
    "fs, alg = feature_scoring.get_ex_feature_scores(experiments_sobol, outcomes_sobol['prey'][:,-1], mode=RuleInductionType.REGRESSION, nr_trees = 100, max_features = 0.6)\n",
    "\n",
    "#fs.sort_values(ascending=False, by=1)\n",
    "\n",
    "print(fs, alg)\n",
    "\n",
    "import seaborn as sns \n",
    "\n",
    "sns.heatmap(fs, cmap='viridis', annot=True)\n",
    "plt.show()\n"
   ]
  },
  {
   "cell_type": "markdown",
   "metadata": {},
   "source": [
    "The order of importance of the different input values is stable relative throughout the sobol experiments and the tree analysis\n",
    "\n",
    "In order from greatest to least importance:\n",
    "1. predator  efficiency\n",
    "2. pred loss rate\n",
    "3. prey birth rate\n",
    "4. pred rate"
   ]
  }
 ],
 "metadata": {
  "kernelspec": {
   "display_name": "Python 3",
   "language": "python",
   "name": "python3"
  },
  "language_info": {
   "codemirror_mode": {
    "name": "ipython",
    "version": 3
   },
   "file_extension": ".py",
   "mimetype": "text/x-python",
   "name": "python",
   "nbconvert_exporter": "python",
   "pygments_lexer": "ipython3",
   "version": "3.8.5"
  }
 },
 "nbformat": 4,
 "nbformat_minor": 4
}
