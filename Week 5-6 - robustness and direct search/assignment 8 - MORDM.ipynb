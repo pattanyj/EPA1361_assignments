{
 "cells": [
  {
   "cell_type": "markdown",
   "metadata": {},
   "source": [
    "# Multi-objective robust decision making (MORDM)\n",
    "\n",
    "\n",
    "This exercise demostrates the application of MORDM on the lake model, which was used in earlier exercises.\n",
    "\n",
    "MORDM has four main steps:\n",
    "\n",
    "(i)\t    **problem formulation** based on a systems analytical problem definition framework \n",
    "\n",
    "(ii)\t**searching** for candidate solutions that optimize multiple objectives by using multi-objective evolutionary algorithms \n",
    "\n",
    "(iii)\tgenerating an ensemble of scenarios to **explore** the effects of uncertainties \n",
    "\n",
    "(iv)\tusing **scenario discovery** to detect the vulnerabilities of candidate solutions and improving thecandidate solutions\n",
    "\n",
    "\n",
    "\n",
    "## Step 1: Problem formulation\n",
    "### Lake Model\n",
    "\n",
    "Remember the lake problem used in the assignments in previous weeks. The lake problem is a hypothetical case where the inhabitants of a lake town decide on the amount of annual pollution they release into a lake. It the pollution in the lake passes a threshold, it will suffer irreversible eutrophication.\n",
    "\n",
    "The lake problem has 4 **outcome indicators**: \n",
    "   - **max_P**: maximum pollution over time, to be minimized\n",
    "   - **utility**: economic benefits obtained from polluting the lake, to be maximized\n",
    "   - **inertia**: the percentage of significant annual changes in the anthropogenic pollution rate, to be maximized\n",
    "   - **reliability**: the percentage of years where the pollution level is below the critical threshold, to be maximized\n",
    "    \n",
    "See the lake model exercise for the formulation of these outcome variables.\n",
    "\n",
    "The lake problem is characterized by both stochastic uncertainty and **deep uncertainty**. The stochastic uncertainty arises from the natural inflow. To reduce this stochastic uncertainty, multiple replications are performed and the average over the replication is taken. Deep uncertainty is presented by uncertainty about the mean $\\mu$ and standard deviation $sigma$ of the lognormal distribution characterizing the natural inflow, the natural removal rate of the lake $\\beta$, the natural recycling rate of the lake $q$, and the discount rate $\\delta$. The table below specifies the ranges for the deeply uncertain factors, as well as their best estimate or default values. \n",
    "\n",
    "|Parameter\t|Range\t        |Default value|\n",
    "|-----------|--------------:|------------:|\n",
    "|$\\mu$    \t|0.01 – 0.05\t|0.02         |\n",
    "|$\\sigma$\t|0.001 – 0.005 \t|0.0017       |\n",
    "|$b$      \t|0.1 – 0.45\t    |0.42         |\n",
    "|$q$\t    |2 – 4.5\t    |2            |\n",
    "|$\\delta$\t|0.93 – 0.99\t|0.98         |\n",
    "\n",
    "\n",
    "The lake problem in previous assignments had 100 decision **levers**, meaning that the decision makers independently decide on the amount of anthropogenic pollution at every time step (100). Then a 'policy' was a set of values for these 100 levers, which you composed by sampling from the range [0, 0.1].   \n",
    "\n",
    "In this exercise, we will use a more advanced way of deciding on the amout of anhtropogenic polution. We will use a **closed loop** version of the lake model, meaning that $a_t$ (anthropogenic pollution) is dependent on $X_t$ (the pollution level at time t). For instance, the rate of anthropogenic pollutions is lowered if the pollution level is approaching a critical threshold. Here, we use \"cubic radial basis functions\" following [Quinn et al. 2017](http://www.sciencedirect.com/science/article/pii/S1364815216302250) and formulate $a_t$ as follows:\n",
    "\n",
    "\\begin{equation}\n",
    "    a_{t} =  min\\Bigg(max\\bigg(\\sum\\limits_{j=1}^{n} w_{j}\\left\\vert{\\frac{X_{t,i}-c_{j}}{r_{j}}}\\right\\vert^3, 0.01\\bigg), 0.1\\Bigg) \\\\\n",
    "    s.t. \\\\\n",
    "    -2 \\leq c_{j} \\leq 2 \\\\\n",
    "    0 \\leq r_{j} \\leq 2 \\\\ \n",
    "    0 \\leq w_{j} \\leq 1 \\\\\n",
    "    \\sum\\limits_{j=1}^{n} w_{j} = 1\n",
    "\\end{equation}\n",
    "\n",
    "\n",
    "The parameters that define this function also define the pollution strategy over time. Hence, the decision **levers** are the five parameters of this functions, namely $c_1$, $c_2$, $r_1$, $r_2$ and $w_1$. ($w_2$ = 1 - $w_1$).\n",
    "\n",
    "Note:: i is index for the realization, given m realizations; j is the index for the radial basis function, given 2 radial basis functions. \n",
    "\n",
    "**To formulate this problem, do the following:**\n",
    "\n",
    "**1) Import the lake model function from dps_lake_model.py**\n",
    "\n",
    "**2) Create an ema_workbench interface for this problem, with corresponding uncertainties, levers and outcomes as specified above**\n",
    "\n"
   ]
  },
  {
   "cell_type": "code",
   "execution_count": 1,
   "metadata": {
    "jupyter": {
     "outputs_hidden": true
    }
   },
   "outputs": [],
   "source": [
    "from dps_lake_model import lake_model, get_antropogenic_release\n",
    "\n",
    "from ema_workbench import (Model, RealParameter, ScalarOutcome,\n",
    "                           MultiprocessingEvaluator, ema_logging,\n",
    "                           Constant)\n",
    "\n",
    "ema_logging.log_to_stderr(ema_logging.INFO)\n",
    "\n",
    "#instantiate the model\n",
    "model = Model('lakeproblem', function=lake_model)\n",
    "model.time_horizon = 100 # used to specify the number of timesteps\n",
    "\n",
    "#specify uncertainties\n",
    "model.uncertainties = [RealParameter('mean', 0.01, 0.05),\n",
    "                            RealParameter('stdev', 0.001, 0.005),\n",
    "                            RealParameter('b', 0.1, 0.45),\n",
    "                            RealParameter('q', 2.0, 4.5),\n",
    "                            RealParameter('delta', 0.93, 0.99)]\n",
    "\n",
    "# set levers, one for each time step\n",
    "model.levers = [RealParameter('c1', -2, 2),\n",
    "                            RealParameter('c2', -2, 2),\n",
    "                            RealParameter('r1', 0, 2),\n",
    "                            RealParameter('r2', 0, 2),\n",
    "                            RealParameter('w1', 0, 1)]\n",
    "#specify outcomes \n",
    "model.outcomes = [ScalarOutcome('max_P', kind=ScalarOutcome.MINIMIZE),\n",
    "                       ScalarOutcome('utility', kind=ScalarOutcome.MAXIMIZE),\n",
    "                       ScalarOutcome('inertia', kind=ScalarOutcome.MAXIMIZE),\n",
    "                       ScalarOutcome('reliability', kind=ScalarOutcome.MAXIMIZE)]\n",
    "\n",
    "model.constantcs = [Constant('alpha', 0.41),\n",
    "                         Constant('reps', 150)]"
   ]
  },
  {
   "cell_type": "markdown",
   "metadata": {},
   "source": [
    "## Step 2: Searching for candidate solutions\n",
    "\n",
    "In the second step of MORDM, candidate strategies are identified which are pareto optimal conditional on a reference scenario. These candiate strategies are identified through search with multi-objective evolutionary algorithms, that iteratively evaluate a large number of alternatives on multiple objectives until they find the best candidates. For instance, when we optimize the lake model levers, the lake model function will be called for each candidate evaluation, and the corresponding four objective values will be generated. \n",
    "\n",
    "Take the model interface developed in the previous step and use the optimization functionality of the workbench to identify the pareto approximate set of solutions. Try the following:\n",
    "* change the epsilon values between 0.01 and 0.1, what changes, why?\n",
    "* change the number of function evaluations from 1000 to 10.000 (this requires using multiprocessing unless you are very patient). What is the difference? You can use  convergence as explained in assignment 7 for this"
   ]
  },
  {
   "cell_type": "code",
   "execution_count": 2,
   "metadata": {},
   "outputs": [
    {
     "name": "stderr",
     "output_type": "stream",
     "text": [
      "[MainProcess/INFO] pool started\n",
      "[MainProcess/INFO] generation 0: 0/1000 nfe\n",
      "[MainProcess/INFO] generation 5: 493/1000 nfe\n",
      "[MainProcess/INFO] generation 10: 991/1000 nfe\n",
      "[MainProcess/INFO] optimization completed, found 61 solutions\n",
      "[MainProcess/INFO] terminating pool\n"
     ]
    }
   ],
   "source": [
    "# 1000 experiments\n",
    "with MultiprocessingEvaluator(model) as evaluator:\n",
    "    results0 = evaluator.optimize(nfe=1000, epsilons=[0.01, 0.01, 0.01, 0.01])"
   ]
  },
  {
   "cell_type": "code",
   "execution_count": 3,
   "metadata": {},
   "outputs": [
    {
     "name": "stderr",
     "output_type": "stream",
     "text": [
      "[MainProcess/INFO] pool started\n",
      "[MainProcess/INFO] generation 0: 0/1000 nfe\n",
      "[MainProcess/INFO] generation 5: 495/1000 nfe\n",
      "[MainProcess/INFO] generation 10: 992/1000 nfe\n",
      "[MainProcess/INFO] optimization completed, found 12 solutions\n",
      "[MainProcess/INFO] terminating pool\n"
     ]
    }
   ],
   "source": [
    "# 1000 experiments\n",
    "with MultiprocessingEvaluator(model) as evaluator:\n",
    "    results1 = evaluator.optimize(nfe=1000, epsilons=[0.1, 0.1, 0.1, 0.1])"
   ]
  },
  {
   "cell_type": "code",
   "execution_count": 4,
   "metadata": {},
   "outputs": [
    {
     "name": "stderr",
     "output_type": "stream",
     "text": [
      "[MainProcess/INFO] pool started\n",
      "[MainProcess/INFO] generation 0: 0/10000 nfe\n",
      "[MainProcess/INFO] generation 5: 494/10000 nfe\n",
      "[MainProcess/INFO] generation 10: 989/10000 nfe\n",
      "[MainProcess/INFO] generation 15: 1484/10000 nfe\n",
      "[MainProcess/INFO] generation 20: 1981/10000 nfe\n",
      "[MainProcess/INFO] generation 25: 2475/10000 nfe\n",
      "[MainProcess/INFO] generation 30: 2968/10000 nfe\n",
      "[MainProcess/INFO] generation 35: 3458/10000 nfe\n",
      "[MainProcess/INFO] generation 40: 3955/10000 nfe\n",
      "[MainProcess/INFO] generation 45: 4445/10000 nfe\n",
      "[MainProcess/INFO] generation 50: 4942/10000 nfe\n",
      "[MainProcess/INFO] generation 55: 5433/10000 nfe\n",
      "[MainProcess/INFO] generation 60: 5929/10000 nfe\n",
      "[MainProcess/INFO] generation 65: 6426/10000 nfe\n",
      "[MainProcess/INFO] generation 70: 6923/10000 nfe\n",
      "[MainProcess/INFO] generation 75: 7421/10000 nfe\n",
      "[MainProcess/INFO] generation 80: 7914/10000 nfe\n",
      "[MainProcess/INFO] generation 85: 8413/10000 nfe\n",
      "[MainProcess/INFO] generation 90: 8911/10000 nfe\n",
      "[MainProcess/INFO] generation 95: 9405/10000 nfe\n",
      "[MainProcess/INFO] generation 100: 9900/10000 nfe\n",
      "[MainProcess/INFO] optimization completed, found 271 solutions\n",
      "[MainProcess/INFO] terminating pool\n"
     ]
    }
   ],
   "source": [
    "# 10,000 experiments\n",
    "with MultiprocessingEvaluator(model) as evaluator:\n",
    "    results2 = evaluator.optimize(nfe=10000, epsilons=[0.01, 0.01, 0.01, 0.01])"
   ]
  },
  {
   "cell_type": "code",
   "execution_count": 5,
   "metadata": {},
   "outputs": [
    {
     "name": "stderr",
     "output_type": "stream",
     "text": [
      "[MainProcess/INFO] pool started\n",
      "[MainProcess/INFO] generation 0: 0/10000 nfe\n",
      "[MainProcess/INFO] generation 5: 493/10000 nfe\n",
      "[MainProcess/INFO] generation 10: 988/10000 nfe\n",
      "[MainProcess/INFO] generation 15: 1481/10000 nfe\n",
      "[MainProcess/INFO] generation 20: 1974/10000 nfe\n",
      "[MainProcess/INFO] generation 25: 2474/10000 nfe\n",
      "[MainProcess/INFO] generation 30: 2967/10000 nfe\n",
      "[MainProcess/INFO] generation 35: 3458/10000 nfe\n",
      "[MainProcess/INFO] generation 40: 3952/10000 nfe\n",
      "[MainProcess/INFO] generation 45: 4449/10000 nfe\n",
      "[MainProcess/INFO] generation 50: 4945/10000 nfe\n",
      "[MainProcess/INFO] generation 55: 5440/10000 nfe\n",
      "[MainProcess/INFO] generation 60: 5932/10000 nfe\n",
      "[MainProcess/INFO] generation 65: 6430/10000 nfe\n",
      "[MainProcess/INFO] generation 70: 6925/10000 nfe\n",
      "[MainProcess/INFO] generation 75: 7413/10000 nfe\n",
      "[MainProcess/INFO] generation 80: 7906/10000 nfe\n",
      "[MainProcess/INFO] generation 85: 8401/10000 nfe\n",
      "[MainProcess/INFO] generation 90: 8895/10000 nfe\n",
      "[MainProcess/INFO] generation 95: 9393/10000 nfe\n",
      "[MainProcess/INFO] generation 100: 9889/10000 nfe\n",
      "[MainProcess/INFO] optimization completed, found 13 solutions\n",
      "[MainProcess/INFO] terminating pool\n"
     ]
    }
   ],
   "source": [
    "# 10,000 experiments\n",
    "with MultiprocessingEvaluator(model) as evaluator:\n",
    "    results2 = evaluator.optimize(nfe=10000, epsilons=[0.1, 0.1, 0.1, 0.1])"
   ]
  },
  {
   "cell_type": "code",
   "execution_count": 6,
   "metadata": {},
   "outputs": [],
   "source": [
    "# convergance\n",
    "from ema_workbench.em_framework.optimization import (HyperVolume,\n",
    "                                                     EpsilonProgress)\n",
    "from ema_workbench import Constraint\n",
    "\n",
    "#specify outcomes  \n",
    "model.outcomes = [ScalarOutcome('max_P', kind=ScalarOutcome.MINIMIZE,\n",
    "                                     expected_range=(0,5)),\n",
    "                       ScalarOutcome('utility', kind=ScalarOutcome.MAXIMIZE,\n",
    "                                     expected_range=(0,2)),\n",
    "                       ScalarOutcome('inertia', kind=ScalarOutcome.MAXIMIZE,\n",
    "                                    expected_range=(0,1)),\n",
    "                       ScalarOutcome('reliability', kind=ScalarOutcome.MAXIMIZE,\n",
    "                                     expected_range=(0,1))]\n",
    "\n",
    "convergence_metrics = [HyperVolume.from_outcomes(model.outcomes),\n",
    "                       EpsilonProgress()]\n",
    "\n",
    "constraints = [Constraint(\"max pollution\", outcome_names=\"max_P\",\n",
    "                          function=lambda x:max(0, x-5))]"
   ]
  },
  {
   "cell_type": "code",
   "execution_count": 7,
   "metadata": {},
   "outputs": [
    {
     "name": "stderr",
     "output_type": "stream",
     "text": [
      "[MainProcess/INFO] pool started\n",
      "[MainProcess/INFO] generation 0: 0/1000 nfe\n",
      "[MainProcess/INFO] generation 5: 494/1000 nfe\n",
      "[MainProcess/INFO] generation 10: 988/1000 nfe\n",
      "[MainProcess/INFO] optimization completed, found 10 solutions\n",
      "[MainProcess/INFO] terminating pool\n"
     ]
    }
   ],
   "source": [
    "with MultiprocessingEvaluator(model) as evaluator:\n",
    "    results, convergence = evaluator.optimize(nfe=1000, searchover='levers',\n",
    "                                    epsilons=[0.1, 0.1, 0.1, 0.1],\n",
    "                                    convergence=convergence_metrics,\n",
    "                                    constraints=constraints)"
   ]
  },
  {
   "cell_type": "code",
   "execution_count": 8,
   "metadata": {},
   "outputs": [
    {
     "data": {
      "image/png": "[encoded data removed]",
      "text/plain": [
       "<Figure size 432x288 with 2 Axes>"
      ]
     },
     "metadata": {
      "needs_background": "light"
     },
     "output_type": "display_data"
    }
   ],
   "source": [
    "import matplotlib.pyplot as plt\n",
    "\n",
    "fig, (ax1, ax2) = plt.subplots(ncols=2, sharex=True)\n",
    "\n",
    "ax1.plot(convergence.nfe, convergence.epsilon_progress)\n",
    "ax1.set_ylabel('$\\epsilon$-progress')\n",
    "ax2.plot(convergence.nfe, convergence.hypervolume)\n",
    "ax2.set_ylabel('hypervolume')\n",
    "\n",
    "ax1.set_xlabel('number of function evaluations')\n",
    "ax2.set_xlabel('number of function evaluations')\n",
    "plt.show()"
   ]
  },
  {
   "cell_type": "code",
   "execution_count": 9,
   "metadata": {},
   "outputs": [
    {
     "name": "stderr",
     "output_type": "stream",
     "text": [
      "[MainProcess/INFO] pool started\n",
      "[MainProcess/INFO] generation 0: 0/10000 nfe\n",
      "[MainProcess/INFO] generation 5: 495/10000 nfe\n",
      "[MainProcess/INFO] generation 10: 991/10000 nfe\n",
      "[MainProcess/INFO] generation 15: 1487/10000 nfe\n",
      "[MainProcess/INFO] generation 20: 1978/10000 nfe\n",
      "[MainProcess/INFO] generation 25: 2471/10000 nfe\n",
      "[MainProcess/INFO] generation 30: 2968/10000 nfe\n",
      "[MainProcess/INFO] generation 35: 3465/10000 nfe\n",
      "[MainProcess/INFO] generation 40: 3961/10000 nfe\n",
      "[MainProcess/INFO] generation 45: 4457/10000 nfe\n",
      "[MainProcess/INFO] generation 50: 4954/10000 nfe\n",
      "[MainProcess/INFO] generation 55: 5446/10000 nfe\n",
      "[MainProcess/INFO] generation 60: 5941/10000 nfe\n",
      "[MainProcess/INFO] generation 65: 6436/10000 nfe\n",
      "[MainProcess/INFO] generation 70: 6933/10000 nfe\n",
      "[MainProcess/INFO] generation 75: 7422/10000 nfe\n",
      "[MainProcess/INFO] generation 80: 7920/10000 nfe\n",
      "[MainProcess/INFO] generation 85: 8418/10000 nfe\n",
      "[MainProcess/INFO] generation 90: 8913/10000 nfe\n",
      "[MainProcess/INFO] generation 95: 9408/10000 nfe\n",
      "[MainProcess/INFO] generation 100: 9901/10000 nfe\n",
      "[MainProcess/INFO] optimization completed, found 13 solutions\n",
      "[MainProcess/INFO] terminating pool\n"
     ]
    }
   ],
   "source": [
    "with MultiprocessingEvaluator(model) as evaluator:\n",
    "    results, convergence = evaluator.optimize(nfe=10000, searchover='levers',\n",
    "                                    epsilons=[0.1, 0.1, 0.1, 0.1],\n",
    "                                    convergence=convergence_metrics,\n",
    "                                    constraints=constraints)"
   ]
  },
  {
   "cell_type": "code",
   "execution_count": 10,
   "metadata": {},
   "outputs": [
    {
     "data": {
      "image/png": "[encoded data removed]",
      "text/plain": [
       "<Figure size 432x288 with 2 Axes>"
      ]
     },
     "metadata": {
      "needs_background": "light"
     },
     "output_type": "display_data"
    }
   ],
   "source": [
    "fig, (ax1, ax2) = plt.subplots(ncols=2, sharex=True)\n",
    "\n",
    "ax1.plot(convergence.nfe, convergence.epsilon_progress)\n",
    "ax1.set_ylabel('$\\epsilon$-progress')\n",
    "ax2.plot(convergence.nfe, convergence.hypervolume)\n",
    "ax2.set_ylabel('hypervolume')\n",
    "\n",
    "ax1.set_xlabel('number of function evaluations')\n",
    "ax2.set_xlabel('number of function evaluations')\n",
    "plt.show()"
   ]
  },
  {
   "cell_type": "markdown",
   "metadata": {},
   "source": [
    "With 10,000 nfe there is already a convergence of hypervolume and e-progress is beginning to converge"
   ]
  },
  {
   "cell_type": "markdown",
   "metadata": {},
   "source": [
    "**plot the tradeoffs you have found using a parallel axis plot**\n",
    "\n",
    "We can visualize these tradeoffs on **parallel axis plots**. In these plots, each dimension is shown as a vertical axis. Each solution is represented by a line on this plot, which crosses the objective axes at the corresponsing value. You can use the [parcoords functionality](https://emaworkbench.readthedocs.io/en/latest/ema_documentation/analysis/parcoords.html) for this that comes with the ema_workbench. Ensure that the direction of desirability is the same for the four objectives.|\n",
    "\n"
   ]
  },
  {
   "cell_type": "code",
   "execution_count": 11,
   "metadata": {},
   "outputs": [
    {
     "data": {
      "image/png": "[encoded data removed]",
      "text/plain": [
       "<Figure size 432x288 with 3 Axes>"
      ]
     },
     "metadata": {},
     "output_type": "display_data"
    }
   ],
   "source": [
    "# parallel axis plot\n",
    "from ema_workbench.analysis import parcoords\n",
    "\n",
    "outcomes = results.loc[:, ['max_P', 'utility', 'reliability','inertia']]\n",
    "\n",
    "limits = parcoords.get_limits(outcomes)\n",
    "axes = parcoords.ParallelAxes(limits)\n",
    "axes.plot(outcomes)\n",
    "\n",
    "# we invert this axis so direction of desirability is the same \n",
    "axes.invert_axis('max_P') \n",
    "plt.show()"
   ]
  },
  {
   "cell_type": "markdown",
   "metadata": {},
   "source": [
    "**What does this plot tell us about the tradeoffs and conflicting objectives?**"
   ]
  },
  {
   "cell_type": "markdown",
   "metadata": {},
   "source": [
    "!! write tradeoffs here !!!"
   ]
  },
  {
   "cell_type": "markdown",
   "metadata": {},
   "source": [
    "## Step 3: Re-evaluate candidate solutions under uncertainty\n",
    "\n",
    "We now have a large number of candidate solutions (policies), we can re-evaluate them over the various deeply uncertain factors to assess their robustness against uncertainties.\n",
    "\n",
    "For this robustness evaluation, we need to explore the scenarios for each solution. It means that, if we would like to run for instance 1000 scenarios for each solution, we might have to execute a very large number of runs.\n",
    "\n",
    "Here, to simplify the case, let's suppose that decision makers have a hard constrain on *reliability*. No solution with less than 90% reliability is acceptable for them. Therefore, we can reduce the size of the solution set according to this constraint. \n",
    "\n",
    "**Apply this constraint of reliability on the results, and create a new dataframe named new_reults**\n"
   ]
  },
  {
   "cell_type": "code",
   "execution_count": 33,
   "metadata": {},
   "outputs": [
    {
     "data": {
      "text/html": [
       "<div>\n",
       "<style scoped>\n",
       "    .dataframe tbody tr th:only-of-type {\n",
       "        vertical-align: middle;\n",
       "    }\n",
       "\n",
       "    .dataframe tbody tr th {\n",
       "        vertical-align: top;\n",
       "    }\n",
       "\n",
       "    .dataframe thead th {\n",
       "        text-align: right;\n",
       "    }\n",
       "</style>\n",
       "<table border=\"1\" class=\"dataframe\">\n",
       "  <thead>\n",
       "    <tr style=\"text-align: right;\">\n",
       "      <th></th>\n",
       "      <th>c1</th>\n",
       "      <th>c2</th>\n",
       "      <th>r1</th>\n",
       "      <th>r2</th>\n",
       "      <th>w1</th>\n",
       "      <th>max_P</th>\n",
       "      <th>utility</th>\n",
       "      <th>inertia</th>\n",
       "      <th>reliability</th>\n",
       "    </tr>\n",
       "  </thead>\n",
       "  <tbody>\n",
       "    <tr>\n",
       "      <th>1</th>\n",
       "      <td>0.205538</td>\n",
       "      <td>-1.234235</td>\n",
       "      <td>0.632226</td>\n",
       "      <td>1.601760</td>\n",
       "      <td>0.483366</td>\n",
       "      <td>2.283637</td>\n",
       "      <td>1.734761</td>\n",
       "      <td>0.9900</td>\n",
       "      <td>0.0700</td>\n",
       "    </tr>\n",
       "    <tr>\n",
       "      <th>4</th>\n",
       "      <td>1.966968</td>\n",
       "      <td>0.976062</td>\n",
       "      <td>0.933000</td>\n",
       "      <td>1.721296</td>\n",
       "      <td>0.828109</td>\n",
       "      <td>2.146742</td>\n",
       "      <td>1.092267</td>\n",
       "      <td>0.9900</td>\n",
       "      <td>0.0700</td>\n",
       "    </tr>\n",
       "    <tr>\n",
       "      <th>9</th>\n",
       "      <td>1.987083</td>\n",
       "      <td>1.291964</td>\n",
       "      <td>1.378162</td>\n",
       "      <td>1.857737</td>\n",
       "      <td>0.462735</td>\n",
       "      <td>2.078617</td>\n",
       "      <td>0.862548</td>\n",
       "      <td>0.9900</td>\n",
       "      <td>0.0700</td>\n",
       "    </tr>\n",
       "    <tr>\n",
       "      <th>11</th>\n",
       "      <td>-0.341971</td>\n",
       "      <td>0.457885</td>\n",
       "      <td>1.251313</td>\n",
       "      <td>0.779889</td>\n",
       "      <td>0.483254</td>\n",
       "      <td>2.283724</td>\n",
       "      <td>1.649003</td>\n",
       "      <td>0.9900</td>\n",
       "      <td>0.1000</td>\n",
       "    </tr>\n",
       "    <tr>\n",
       "      <th>6</th>\n",
       "      <td>-0.421394</td>\n",
       "      <td>0.308958</td>\n",
       "      <td>1.550397</td>\n",
       "      <td>0.583962</td>\n",
       "      <td>0.473934</td>\n",
       "      <td>2.283731</td>\n",
       "      <td>1.358720</td>\n",
       "      <td>0.9832</td>\n",
       "      <td>0.2164</td>\n",
       "    </tr>\n",
       "    <tr>\n",
       "      <th>12</th>\n",
       "      <td>-0.183994</td>\n",
       "      <td>0.460462</td>\n",
       "      <td>1.281008</td>\n",
       "      <td>0.744181</td>\n",
       "      <td>0.479297</td>\n",
       "      <td>2.283862</td>\n",
       "      <td>1.150344</td>\n",
       "      <td>0.9803</td>\n",
       "      <td>0.3285</td>\n",
       "    </tr>\n",
       "    <tr>\n",
       "      <th>10</th>\n",
       "      <td>0.208409</td>\n",
       "      <td>0.940199</td>\n",
       "      <td>0.341654</td>\n",
       "      <td>1.999998</td>\n",
       "      <td>0.311268</td>\n",
       "      <td>2.283575</td>\n",
       "      <td>1.014728</td>\n",
       "      <td>0.9761</td>\n",
       "      <td>0.4244</td>\n",
       "    </tr>\n",
       "    <tr>\n",
       "      <th>3</th>\n",
       "      <td>-0.243241</td>\n",
       "      <td>0.425934</td>\n",
       "      <td>1.400115</td>\n",
       "      <td>0.736693</td>\n",
       "      <td>0.487895</td>\n",
       "      <td>2.283546</td>\n",
       "      <td>0.903662</td>\n",
       "      <td>0.9808</td>\n",
       "      <td>0.5085</td>\n",
       "    </tr>\n",
       "    <tr>\n",
       "      <th>2</th>\n",
       "      <td>-0.243241</td>\n",
       "      <td>0.448069</td>\n",
       "      <td>1.475162</td>\n",
       "      <td>0.743179</td>\n",
       "      <td>0.473427</td>\n",
       "      <td>2.283651</td>\n",
       "      <td>0.800066</td>\n",
       "      <td>0.9799</td>\n",
       "      <td>0.6092</td>\n",
       "    </tr>\n",
       "    <tr>\n",
       "      <th>8</th>\n",
       "      <td>-0.243241</td>\n",
       "      <td>0.460289</td>\n",
       "      <td>1.547652</td>\n",
       "      <td>0.743179</td>\n",
       "      <td>0.497494</td>\n",
       "      <td>2.269813</td>\n",
       "      <td>0.702917</td>\n",
       "      <td>0.9792</td>\n",
       "      <td>0.7287</td>\n",
       "    </tr>\n",
       "    <tr>\n",
       "      <th>5</th>\n",
       "      <td>-0.243241</td>\n",
       "      <td>0.460620</td>\n",
       "      <td>1.548388</td>\n",
       "      <td>0.743179</td>\n",
       "      <td>0.475009</td>\n",
       "      <td>1.565519</td>\n",
       "      <td>0.601378</td>\n",
       "      <td>0.9807</td>\n",
       "      <td>0.9006</td>\n",
       "    </tr>\n",
       "    <tr>\n",
       "      <th>0</th>\n",
       "      <td>0.357214</td>\n",
       "      <td>0.204646</td>\n",
       "      <td>0.527619</td>\n",
       "      <td>1.219502</td>\n",
       "      <td>0.857662</td>\n",
       "      <td>0.194587</td>\n",
       "      <td>0.521159</td>\n",
       "      <td>0.9900</td>\n",
       "      <td>1.0000</td>\n",
       "    </tr>\n",
       "    <tr>\n",
       "      <th>7</th>\n",
       "      <td>0.197328</td>\n",
       "      <td>0.464407</td>\n",
       "      <td>0.341654</td>\n",
       "      <td>1.999998</td>\n",
       "      <td>0.294912</td>\n",
       "      <td>0.098206</td>\n",
       "      <td>0.260486</td>\n",
       "      <td>0.9900</td>\n",
       "      <td>1.0000</td>\n",
       "    </tr>\n",
       "  </tbody>\n",
       "</table>\n",
       "</div>"
      ],
      "text/plain": [
       "          c1        c2        r1        r2        w1     max_P   utility  \\\n",
       "1   0.205538 -1.234235  0.632226  1.601760  0.483366  2.283637  1.734761   \n",
       "4   1.966968  0.976062  0.933000  1.721296  0.828109  2.146742  1.092267   \n",
       "9   1.987083  1.291964  1.378162  1.857737  0.462735  2.078617  0.862548   \n",
       "11 -0.341971  0.457885  1.251313  0.779889  0.483254  2.283724  1.649003   \n",
       "6  -0.421394  0.308958  1.550397  0.583962  0.473934  2.283731  1.358720   \n",
       "12 -0.183994  0.460462  1.281008  0.744181  0.479297  2.283862  1.150344   \n",
       "10  0.208409  0.940199  0.341654  1.999998  0.311268  2.283575  1.014728   \n",
       "3  -0.243241  0.425934  1.400115  0.736693  0.487895  2.283546  0.903662   \n",
       "2  -0.243241  0.448069  1.475162  0.743179  0.473427  2.283651  0.800066   \n",
       "8  -0.243241  0.460289  1.547652  0.743179  0.497494  2.269813  0.702917   \n",
       "5  -0.243241  0.460620  1.548388  0.743179  0.475009  1.565519  0.601378   \n",
       "0   0.357214  0.204646  0.527619  1.219502  0.857662  0.194587  0.521159   \n",
       "7   0.197328  0.464407  0.341654  1.999998  0.294912  0.098206  0.260486   \n",
       "\n",
       "    inertia  reliability  \n",
       "1    0.9900       0.0700  \n",
       "4    0.9900       0.0700  \n",
       "9    0.9900       0.0700  \n",
       "11   0.9900       0.1000  \n",
       "6    0.9832       0.2164  \n",
       "12   0.9803       0.3285  \n",
       "10   0.9761       0.4244  \n",
       "3    0.9808       0.5085  \n",
       "2    0.9799       0.6092  \n",
       "8    0.9792       0.7287  \n",
       "5    0.9807       0.9006  \n",
       "0    0.9900       1.0000  \n",
       "7    0.9900       1.0000  "
      ]
     },
     "execution_count": 33,
     "metadata": {},
     "output_type": "execute_result"
    }
   ],
   "source": [
    "import pandas as pd\n",
    "\n",
    "#sort values for 90 % \n",
    "df = pd.DataFrame(results)\n",
    "df.sort_values(\"reliability\", inplace = True)\n",
    "\n",
    "df"
   ]
  },
  {
   "cell_type": "code",
   "execution_count": 34,
   "metadata": {},
   "outputs": [],
   "source": [
    "#drop values\n",
    "new_results = df[df['reliability'] > 0.9] "
   ]
  },
  {
   "cell_type": "code",
   "execution_count": 40,
   "metadata": {},
   "outputs": [
    {
     "data": {
      "text/html": [
       "<div>\n",
       "<style scoped>\n",
       "    .dataframe tbody tr th:only-of-type {\n",
       "        vertical-align: middle;\n",
       "    }\n",
       "\n",
       "    .dataframe tbody tr th {\n",
       "        vertical-align: top;\n",
       "    }\n",
       "\n",
       "    .dataframe thead th {\n",
       "        text-align: right;\n",
       "    }\n",
       "</style>\n",
       "<table border=\"1\" class=\"dataframe\">\n",
       "  <thead>\n",
       "    <tr style=\"text-align: right;\">\n",
       "      <th></th>\n",
       "      <th>c1</th>\n",
       "      <th>c2</th>\n",
       "      <th>r1</th>\n",
       "      <th>r2</th>\n",
       "      <th>w1</th>\n",
       "      <th>max_P</th>\n",
       "      <th>utility</th>\n",
       "      <th>inertia</th>\n",
       "      <th>reliability</th>\n",
       "    </tr>\n",
       "  </thead>\n",
       "  <tbody>\n",
       "    <tr>\n",
       "      <th>5</th>\n",
       "      <td>-0.243241</td>\n",
       "      <td>0.460620</td>\n",
       "      <td>1.548388</td>\n",
       "      <td>0.743179</td>\n",
       "      <td>0.475009</td>\n",
       "      <td>1.565519</td>\n",
       "      <td>0.601378</td>\n",
       "      <td>0.9807</td>\n",
       "      <td>0.9006</td>\n",
       "    </tr>\n",
       "    <tr>\n",
       "      <th>0</th>\n",
       "      <td>0.357214</td>\n",
       "      <td>0.204646</td>\n",
       "      <td>0.527619</td>\n",
       "      <td>1.219502</td>\n",
       "      <td>0.857662</td>\n",
       "      <td>0.194587</td>\n",
       "      <td>0.521159</td>\n",
       "      <td>0.9900</td>\n",
       "      <td>1.0000</td>\n",
       "    </tr>\n",
       "    <tr>\n",
       "      <th>7</th>\n",
       "      <td>0.197328</td>\n",
       "      <td>0.464407</td>\n",
       "      <td>0.341654</td>\n",
       "      <td>1.999998</td>\n",
       "      <td>0.294912</td>\n",
       "      <td>0.098206</td>\n",
       "      <td>0.260486</td>\n",
       "      <td>0.9900</td>\n",
       "      <td>1.0000</td>\n",
       "    </tr>\n",
       "  </tbody>\n",
       "</table>\n",
       "</div>"
      ],
      "text/plain": [
       "         c1        c2        r1        r2        w1     max_P   utility  \\\n",
       "5 -0.243241  0.460620  1.548388  0.743179  0.475009  1.565519  0.601378   \n",
       "0  0.357214  0.204646  0.527619  1.219502  0.857662  0.194587  0.521159   \n",
       "7  0.197328  0.464407  0.341654  1.999998  0.294912  0.098206  0.260486   \n",
       "\n",
       "   inertia  reliability  \n",
       "5   0.9807       0.9006  \n",
       "0   0.9900       1.0000  \n",
       "7   0.9900       1.0000  "
      ]
     },
     "execution_count": 40,
     "metadata": {},
     "output_type": "execute_result"
    }
   ],
   "source": [
    "new_results"
   ]
  },
  {
   "cell_type": "code",
   "execution_count": 42,
   "metadata": {},
   "outputs": [],
   "source": [
    "new_results = new_results.drop(['max_P','utility','inertia','reliability'],axis=1)"
   ]
  },
  {
   "cell_type": "markdown",
   "metadata": {},
   "source": [
    "\n",
    "**From new_results, which is the reduced dataframe of candidate solutions, make a list of policies in a format that can be inputed to the *perform_experiments* function of the EMA workbench.**\n",
    "\n",
    "*hint: you need to transform each policy to a dict, and then use this dict as input for the Policy class that comes with the workbench*"
   ]
  },
  {
   "cell_type": "code",
   "execution_count": 52,
   "metadata": {},
   "outputs": [],
   "source": [
    "#create policies\n",
    "\n",
    "policies={0}\n",
    "\n",
    "for name,entry in new_results.iterrows():\n",
    "    policies['{}'.format(name)]=entry.to_dict()"
   ]
  },
  {
   "cell_type": "code",
   "execution_count": 53,
   "metadata": {},
   "outputs": [
    {
     "data": {
      "text/plain": [
       "{'5': {'c1': -0.24324134802319808,\n",
       "  'c2': 0.46061987447621777,\n",
       "  'r1': 1.5483883501840485,\n",
       "  'r2': 0.7431794159557241,\n",
       "  'w1': 0.47500871138368017},\n",
       " '0': {'c1': 0.3572135907097125,\n",
       "  'c2': 0.20464633547257316,\n",
       "  'r1': 0.5276191270449225,\n",
       "  'r2': 1.2195023405056777,\n",
       "  'w1': 0.8576621195859144},\n",
       " '7': {'c1': 0.19732767524735517,\n",
       "  'c2': 0.4644070706242154,\n",
       "  'r1': 0.3416541452067203,\n",
       "  'r2': 1.9999977279963934,\n",
       "  'w1': 0.2949119518797445}}"
      ]
     },
     "execution_count": 53,
     "metadata": {},
     "output_type": "execute_result"
    }
   ],
   "source": [
    "policies"
   ]
  },
  {
   "cell_type": "markdown",
   "metadata": {},
   "source": [
    "**Perform 1000 scenarios for each of the policy options. Depending on how many solutions are left after implementing the constraint, consider using multiprocessing or ipyparallel to speed up calculations.**\n",
    "\n",
    "If you want to use ipyparallel, don't forget to start ipcluster."
   ]
  },
  {
   "cell_type": "code",
   "execution_count": 55,
   "metadata": {
    "jupyter": {
     "outputs_hidden": true
    }
   },
   "outputs": [],
   "source": [
    "from ema_workbench import Policy\n",
    "\n",
    "policies = []\n",
    "\n",
    "for i, policy in new_results.iterrows():\n",
    "    policies.append(Policy(str(i), **policy.to_dict()))"
   ]
  },
  {
   "cell_type": "code",
   "execution_count": 89,
   "metadata": {
    "scrolled": true
   },
   "outputs": [
    {
     "name": "stderr",
     "output_type": "stream",
     "text": [
      "[MainProcess/INFO] pool started\n",
      "[MainProcess/INFO] performing 1000 scenarios * 3 policies * 1 model(s) = 3000 experiments\n",
      "[MainProcess/INFO] 300 cases completed\n",
      "[MainProcess/INFO] 600 cases completed\n",
      "[MainProcess/INFO] 900 cases completed\n",
      "[MainProcess/INFO] 1200 cases completed\n",
      "[MainProcess/INFO] 1500 cases completed\n",
      "[MainProcess/INFO] 1800 cases completed\n",
      "[MainProcess/INFO] 2100 cases completed\n",
      "[MainProcess/INFO] 2400 cases completed\n",
      "[MainProcess/INFO] 2700 cases completed\n",
      "[MainProcess/INFO] 3000 cases completed\n",
      "[MainProcess/INFO] experiments finished\n",
      "[MainProcess/INFO] terminating pool\n"
     ]
    }
   ],
   "source": [
    "from ema_workbench import (MultiprocessingEvaluator,\n",
    "perform_experiments)\n",
    "\n",
    "with MultiprocessingEvaluator(model) as evaluator:\n",
    "    results = evaluator.perform_experiments(scenarios=1000, policies=policies)"
   ]
  },
  {
   "cell_type": "markdown",
   "metadata": {},
   "source": [
    "We can now evaluate the **robustness** of each of the policy options based on these scenario results. We can calculate the robustness of a policy option in terms of its performance on an outcome indicator across the 1000 scenarios. In other words, we can identify how robust a policy is in terms of each outcome indicator, and investigate the robustness tradeoffs.  \n",
    "\n",
    "There are multiple metrics to quantify robustness. On of them is the *signal to noise ratio*, which is simply the mean of a dataset divided by its standard deviation. For instance, for an outcome indicator to be maximized, we prefer a high average value across the scenarios, and a low standard deviation, implying a narrow uncertaintiy range. Therefore, we want to maximize the signal-to-noise ratio. For an outcome indicator to be minimized, a lower mean and a lower standard deviation is preferred. Therefore the formulation is different.\n",
    "\n",
    "**Write a function to calculate the signal-to-noise ratio for both kinds of outcome indicators. Calculate the signal-to-noise ratios for each outcome and each policy option. Plot the tradeoffs on a parallel axis plot. Which solutions look like a good compromise policy?**"
   ]
  },
  {
   "cell_type": "code",
   "execution_count": 92,
   "metadata": {
    "scrolled": true
   },
   "outputs": [],
   "source": [
    "import numpy as np\n",
    "\n",
    "policies_list = np.array(new_results)"
   ]
  },
  {
   "cell_type": "code",
   "execution_count": 93,
   "metadata": {},
   "outputs": [
    {
     "data": {
      "text/plain": [
       "array([[-0.24324135,  0.46061987,  1.54838835,  0.74317942,  0.47500871],\n",
       "       [ 0.35721359,  0.20464634,  0.52761913,  1.21950234,  0.85766212],\n",
       "       [ 0.19732768,  0.46440707,  0.34165415,  1.99999773,  0.29491195]])"
      ]
     },
     "execution_count": 93,
     "metadata": {},
     "output_type": "execute_result"
    }
   ],
   "source": [
    "policies_list"
   ]
  },
  {
   "cell_type": "code",
   "execution_count": 96,
   "metadata": {
    "jupyter": {
     "outputs_hidden": true
    }
   },
   "outputs": [
    {
     "name": "stdout",
     "output_type": "stream",
     "text": [
      "1.0338807038732296\n",
      "1.7364736566240564\n",
      "0.9763261291422437\n"
     ]
    }
   ],
   "source": [
    "def signaltonoise(a, axis=0, ddof=0):\n",
    "    a = np.asanyarray(a)\n",
    "    m = a.mean(axis)\n",
    "    sd = a.std(axis=axis, ddof=ddof)\n",
    "    return np.where(sd == 0, 0, m/sd)\n",
    "\n",
    "print(signaltonoise(policies_list[0],axis=0,ddof=0))\n",
    "print(signaltonoise(policies_list[1],axis=0,ddof=0))\n",
    "print(signaltonoise(policies_list[2],axis=0,ddof=0))"
   ]
  },
  {
   "cell_type": "code",
   "execution_count": 106,
   "metadata": {},
   "outputs": [],
   "source": [
    "experiments, outcomes = results"
   ]
  },
  {
   "cell_type": "code",
   "execution_count": 111,
   "metadata": {},
   "outputs": [],
   "source": [
    "experiments?"
   ]
  },
  {
   "cell_type": "code",
   "execution_count": 117,
   "metadata": {},
   "outputs": [
    {
     "ename": "AttributeError",
     "evalue": "'DataFrameGroupBy' object has no attribute 'groupby'",
     "output_type": "error",
     "traceback": [
      "\u001b[1;31m---------------------------------------------------------------------------\u001b[0m",
      "\u001b[1;31mAttributeError\u001b[0m                            Traceback (most recent call last)",
      "\u001b[1;32m<ipython-input-117-847b7a6b4203>\u001b[0m in \u001b[0;36m<module>\u001b[1;34m\u001b[0m\n\u001b[0;32m      1\u001b[0m \u001b[1;32mimport\u001b[0m \u001b[0mpandas\u001b[0m \u001b[1;32mas\u001b[0m \u001b[0mpd\u001b[0m\u001b[1;33m\u001b[0m\u001b[1;33m\u001b[0m\u001b[0m\n\u001b[0;32m      2\u001b[0m \u001b[1;33m\u001b[0m\u001b[0m\n\u001b[1;32m----> 3\u001b[1;33m \u001b[0mdf\u001b[0m \u001b[1;33m=\u001b[0m \u001b[0mexperiments\u001b[0m\u001b[1;33m.\u001b[0m\u001b[0mgroupby\u001b[0m\u001b[1;33m(\u001b[0m\u001b[1;33m[\u001b[0m\u001b[1;34m'policy'\u001b[0m\u001b[1;33m]\u001b[0m\u001b[1;33m)\u001b[0m\u001b[1;33m.\u001b[0m\u001b[0mmean\u001b[0m\u001b[1;33m(\u001b[0m\u001b[1;33m)\u001b[0m\u001b[1;33m\u001b[0m\u001b[1;33m\u001b[0m\u001b[0m\n\u001b[0m\u001b[0;32m      4\u001b[0m \u001b[1;33m\u001b[0m\u001b[0m\n\u001b[0;32m      5\u001b[0m \u001b[0mdf\u001b[0m\u001b[1;33m\u001b[0m\u001b[1;33m\u001b[0m\u001b[0m\n",
      "\u001b[1;32mC:\\ProgramData\\Anaconda3\\lib\\site-packages\\pandas\\core\\groupby\\groupby.py\u001b[0m in \u001b[0;36m__getattr__\u001b[1;34m(self, attr)\u001b[0m\n\u001b[0;32m    701\u001b[0m             \u001b[1;32mreturn\u001b[0m \u001b[0mself\u001b[0m\u001b[1;33m[\u001b[0m\u001b[0mattr\u001b[0m\u001b[1;33m]\u001b[0m\u001b[1;33m\u001b[0m\u001b[1;33m\u001b[0m\u001b[0m\n\u001b[0;32m    702\u001b[0m \u001b[1;33m\u001b[0m\u001b[0m\n\u001b[1;32m--> 703\u001b[1;33m         raise AttributeError(\n\u001b[0m\u001b[0;32m    704\u001b[0m             \u001b[1;34mf\"'{type(self).__name__}' object has no attribute '{attr}'\"\u001b[0m\u001b[1;33m\u001b[0m\u001b[1;33m\u001b[0m\u001b[0m\n\u001b[0;32m    705\u001b[0m         )\n",
      "\u001b[1;31mAttributeError\u001b[0m: 'DataFrameGroupBy' object has no attribute 'groupby'"
     ]
    }
   ],
   "source": [
    "import pandas as pd\n",
    "\n",
    "df = experiments.groupby(['policy']).mean()\n",
    "\n",
    "df"
   ]
  },
  {
   "cell_type": "markdown",
   "metadata": {},
   "source": [
    "Another robustness metric is **maximum regret**, calculated again for each policy and for each outcome indicator. *Regret* is defined for each policy under each scenario, as the difference between the performance of the policy in a specific scenario and the berformance of a no-regret (i.e. best possible result in that scenario) policy. The *maximum regret*  is then the maximum of such regret values across all scenarios. We of course favor policy options with low *maximum regret* values. \n",
    "\n",
    "**Write a function to calculate the maximum regret. Calculate the maximum regret values for each outcome and each policy option. Plot the tradeoffs on a parallel plot. Which solutions look like a good compromise policy?**"
   ]
  },
  {
   "cell_type": "code",
   "execution_count": 104,
   "metadata": {},
   "outputs": [
    {
     "data": {
      "text/plain": [
       "{'max_P': array([7.32914247, 6.24023943, 0.23653815, ..., 0.08508454, 8.46124684,\n",
       "        6.16474257]),\n",
       " 'utility': array([0.7171357 , 1.11214388, 0.77169936, ..., 0.20717975, 0.6777485 ,\n",
       "        0.41552242]),\n",
       " 'inertia': array([0.9775, 0.977 , 0.99  , ..., 0.99  , 0.9725, 0.9742]),\n",
       " 'reliability': array([0.031 , 0.1184, 1.    , ..., 1.    , 0.0977, 0.339 ])}"
      ]
     },
     "execution_count": 104,
     "metadata": {},
     "output_type": "execute_result"
    }
   ],
   "source": [
    "outcomes"
   ]
  },
  {
   "cell_type": "code",
   "execution_count": 101,
   "metadata": {},
   "outputs": [
    {
     "ename": "NameError",
     "evalue": "name 'experiments' is not defined",
     "output_type": "error",
     "traceback": [
      "\u001b[1;31m---------------------------------------------------------------------------\u001b[0m",
      "\u001b[1;31mNameError\u001b[0m                                 Traceback (most recent call last)",
      "\u001b[1;32m<ipython-input-101-d0be3cd9c579>\u001b[0m in \u001b[0;36m<module>\u001b[1;34m\u001b[0m\n\u001b[1;32m----> 1\u001b[1;33m \u001b[0mexperiments\u001b[0m\u001b[1;33m\u001b[0m\u001b[1;33m\u001b[0m\u001b[0m\n\u001b[0m",
      "\u001b[1;31mNameError\u001b[0m: name 'experiments' is not defined"
     ]
    }
   ],
   "source": [
    "experiments"
   ]
  },
  {
   "cell_type": "markdown",
   "metadata": {},
   "source": [
    "We now have an understanding of which solutions have decent robustness using 2 different robustness metrics. A related but different question is to assess the uncertain conditions under which we get poor performance. For this, we can use scenario discovery. Since we want to identify the uncertainties only, we can remove the policy column from the experiments DataFrame. \n",
    "\n",
    "**Perform Scenario Discovery, focussed on understanding the conditions under which utility is lower than 0.25**\n",
    "\n",
    "from the trade off curve between coverage, density and number of restricted dimensions, select a point which balances them. Next, using the `yi` attribute, select from the experiments data frame the rows which are within the box as well as the outcomes associated with these experiments.Save these results. They are the starting point for the next assignment. In pseudo code:\n",
    "\n",
    "```python\n",
    "from ema_workbench import save_results\n",
    "\n",
    "selected_experiments = experiments.iloc[box.yi]\n",
    "selected_outcomes = {k:v[box.yi] for k,v in outcomes.items()}\n",
    "\n",
    "save_results((selected_experiments, selected_outcomes), './results/selected_results.tar.gz')\n",
    "```\n",
    "\n",
    "\n",
    "\n"
   ]
  },
  {
   "cell_type": "code",
   "execution_count": null,
   "metadata": {},
   "outputs": [],
   "source": []
  }
 ],
 "metadata": {
  "anaconda-cloud": {},
  "kernelspec": {
   "display_name": "Python 3",
   "language": "python",
   "name": "python3"
  },
  "language_info": {
   "codemirror_mode": {
    "name": "ipython",
    "version": 3
   },
   "file_extension": ".py",
   "mimetype": "text/x-python",
   "name": "python",
   "nbconvert_exporter": "python",
   "pygments_lexer": "ipython3",
   "version": "3.8.5"
  },
  "latex_envs": {
   "LaTeX_envs_menu_present": true,
   "autocomplete": true,
   "bibliofile": "biblio.bib",
   "cite_by": "apalike",
   "current_citInitial": 1,
   "eqLabelWithNumbers": true,
   "eqNumInitial": 1,
   "hotkeys": {
    "equation": "Ctrl-E",
    "itemize": "Ctrl-I"
   },
   "labels_anchors": false,
   "latex_user_defs": false,
   "report_style_numbering": false,
   "user_envs_cfg": false
  }
 },
 "nbformat": 4,
 "nbformat_minor": 4
}
