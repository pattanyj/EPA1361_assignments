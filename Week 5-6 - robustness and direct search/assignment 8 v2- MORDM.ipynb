{
 "cells": [
  {
   "cell_type": "markdown",
   "metadata": {},
   "source": [
    "# Multi-objective robust decision making (MORDM)\n",
    "\n",
    "\n",
    "This exercise demostrates the application of MORDM on the lake model, which was used in earlier exercises.\n",
    "\n",
    "MORDM has four main steps:\n",
    "\n",
    "(i)\t    **problem formulation** based on a systems analytical problem definition framework \n",
    "\n",
    "(ii)\t**searching** for candidate solutions that optimize multiple objectives by using multi-objective evolutionary algorithms \n",
    "\n",
    "(iii)\tgenerating an ensemble of scenarios to **explore** the effects of uncertainties \n",
    "\n",
    "(iv)\tusing **scenario discovery** to detect the vulnerabilities of candidate solutions and improving thecandidate solutions\n",
    "\n",
    "\n",
    "\n",
    "## Step 1: Problem formulation\n",
    "### Lake Model\n",
    "\n",
    "Remember the lake problem used in the assignments in previous weeks. The lake problem is a hypothetical case where the inhabitants of a lake town decide on the amount of annual pollution they release into a lake. It the pollution in the lake passes a threshold, it will suffer irreversible eutrophication.\n",
    "\n",
    "The lake problem has 4 **outcome indicators**: \n",
    "   - **max_P**: maximum pollution over time, to be minimized\n",
    "   - **utility**: economic benefits obtained from polluting the lake, to be maximized\n",
    "   - **inertia**: the percentage of significant annual changes in the anthropogenic pollution rate, to be maximized\n",
    "   - **reliability**: the percentage of years where the pollution level is below the critical threshold, to be maximized\n",
    "    \n",
    "See the lake model exercise for the formulation of these outcome variables.\n",
    "\n",
    "The lake problem is characterized by both stochastic uncertainty and **deep uncertainty**. The stochastic uncertainty arises from the natural inflow. To reduce this stochastic uncertainty, multiple replications are performed and the average over the replication is taken. Deep uncertainty is presented by uncertainty about the mean $\\mu$ and standard deviation $sigma$ of the lognormal distribution characterizing the natural inflow, the natural removal rate of the lake $\\beta$, the natural recycling rate of the lake $q$, and the discount rate $\\delta$. The table below specifies the ranges for the deeply uncertain factors, as well as their best estimate or default values. \n",
    "\n",
    "|Parameter\t|Range\t        |Default value|\n",
    "|-----------|--------------:|------------:|\n",
    "|$\\mu$    \t|0.01 – 0.05\t|0.02         |\n",
    "|$\\sigma$\t|0.001 – 0.005 \t|0.0017       |\n",
    "|$b$      \t|0.1 – 0.45\t    |0.42         |\n",
    "|$q$\t    |2 – 4.5\t    |2            |\n",
    "|$\\delta$\t|0.93 – 0.99\t|0.98         |\n",
    "\n",
    "\n",
    "The lake problem in previous assignments had 100 decision **levers**, meaning that the decision makers independently decide on the amount of anthropogenic pollution at every time step (100). Then a 'policy' was a set of values for these 100 levers, which you composed by sampling from the range [0, 0.1].   \n",
    "\n",
    "In this exercise, we will use a more advanced way of deciding on the amout of anhtropogenic polution. We will use a **closed loop** version of the lake model, meaning that $a_t$ (anthropogenic pollution) is dependent on $X_t$ (the pollution level at time t). For instance, the rate of anthropogenic pollutions is lowered if the pollution level is approaching a critical threshold. Here, we use \"cubic radial basis functions\" following [Quinn et al. 2017](http://www.sciencedirect.com/science/article/pii/S1364815216302250) and formulate $a_t$ as follows:\n",
    "\n",
    "\\begin{equation}\n",
    "    a_{t} =  min\\Bigg(max\\bigg(\\sum\\limits_{j=1}^{n} w_{j}\\left\\vert{\\frac{X_{t,i}-c_{j}}{r_{j}}}\\right\\vert^3, 0.01\\bigg), 0.1\\Bigg) \\\\\n",
    "    s.t. \\\\\n",
    "    -2 \\leq c_{j} \\leq 2 \\\\\n",
    "    0 \\leq r_{j} \\leq 2 \\\\ \n",
    "    0 \\leq w_{j} \\leq 1 \\\\\n",
    "    \\sum\\limits_{j=1}^{n} w_{j} = 1\n",
    "\\end{equation}\n",
    "\n",
    "\n",
    "The parameters that define this function also define the pollution strategy over time. Hence, the decision **levers** are the five parameters of this functions, namely $c_1$, $c_2$, $r_1$, $r_2$ and $w_1$. ($w_2$ = 1 - $w_1$).\n",
    "\n",
    "Note:: i is index for the realization, given m realizations; j is the index for the radial basis function, given 2 radial basis functions. \n",
    "\n",
    "**To formulate this problem, do the following:**\n",
    "\n",
    "**1) Import the lake model function from dps_lake_model.py**\n",
    "\n",
    "**2) Create an ema_workbench interface for this problem, with corresponding uncertainties, levers and outcomes as specified above**\n",
    "\n"
   ]
  },
  {
   "cell_type": "code",
   "execution_count": 1,
   "metadata": {},
   "outputs": [],
   "source": [
    "from dps_lake_model import lake_model, get_antropogenic_release\n",
    "\n",
    "from ema_workbench import (Model, RealParameter, ScalarOutcome,\n",
    "                           MultiprocessingEvaluator, ema_logging,\n",
    "                           Constant)\n",
    "\n",
    "ema_logging.log_to_stderr(ema_logging.INFO)\n",
    "\n",
    "#instantiate the model\n",
    "model = Model('lakeproblem', function=lake_model)\n",
    "model.time_horizon = 100 # used to specify the number of timesteps\n",
    "\n",
    "#specify uncertainties\n",
    "model.uncertainties = [RealParameter('mean', 0.01, 0.05),\n",
    "                            RealParameter('stdev', 0.001, 0.005),\n",
    "                            RealParameter('b', 0.1, 0.45),\n",
    "                            RealParameter('q', 2.0, 4.5),\n",
    "                            RealParameter('delta', 0.93, 0.99)]\n",
    "\n",
    "# set levers, one for each time step\n",
    "model.levers = [RealParameter('c1', -2, 2),\n",
    "                            RealParameter('c2', -2, 2),\n",
    "                            RealParameter('r1', 0, 2),\n",
    "                            RealParameter('r2', 0, 2),\n",
    "                            RealParameter('w1', 0, 1)]\n",
    "#specify outcomes \n",
    "model.outcomes = [ScalarOutcome('max_P', kind=ScalarOutcome.MINIMIZE),\n",
    "                       ScalarOutcome('utility', kind=ScalarOutcome.MAXIMIZE),\n",
    "                       ScalarOutcome('inertia', kind=ScalarOutcome.MAXIMIZE),\n",
    "                       ScalarOutcome('reliability', kind=ScalarOutcome.MAXIMIZE)]\n",
    "\n",
    "model.constantcs = [Constant('alpha', 0.41),\n",
    "                         Constant('reps', 150)]"
   ]
  },
  {
   "cell_type": "markdown",
   "metadata": {},
   "source": [
    "## Step 2: Searching for candidate solutions\n",
    "\n",
    "In the second step of MORDM, candidate strategies are identified which are pareto optimal conditional on a reference scenario. These candiate strategies are identified through search with multi-objective evolutionary algorithms, that iteratively evaluate a large number of alternatives on multiple objectives until they find the best candidates. For instance, when we optimize the lake model levers, the lake model function will be called for each candidate evaluation, and the corresponding four objective values will be generated. \n",
    "\n",
    "Take the model interface developed in the previous step and use the optimization functionality of the workbench to identify the pareto approximate set of solutions. Try the following:\n",
    "* change the epsilon values between 0.01 and 0.1, what changes, why?\n",
    "* change the number of function evaluations from 1000 to 10.000 (this requires using multiprocessing unless you are very patient). What is the difference? You can use  convergence as explained in assignment 7 for this"
   ]
  },
  {
   "cell_type": "code",
   "execution_count": 2,
   "metadata": {},
   "outputs": [
    {
     "name": "stderr",
     "output_type": "stream",
     "text": [
      "[MainProcess/INFO] pool started\n",
      "[MainProcess/INFO] generation 0: 0/1000 nfe\n",
      "[MainProcess/INFO] generation 5: 495/1000 nfe\n",
      "[MainProcess/INFO] generation 10: 993/1000 nfe\n",
      "[MainProcess/INFO] optimization completed, found 84 solutions\n",
      "[MainProcess/INFO] terminating pool\n"
     ]
    }
   ],
   "source": [
    "# 1000 experiments\n",
    "with MultiprocessingEvaluator(model) as evaluator:\n",
    "    results0 = evaluator.optimize(nfe=1000, epsilons=[0.01, 0.01, 0.01, 0.01])"
   ]
  },
  {
   "cell_type": "code",
   "execution_count": 3,
   "metadata": {},
   "outputs": [
    {
     "name": "stderr",
     "output_type": "stream",
     "text": [
      "[MainProcess/INFO] pool started\n",
      "[MainProcess/INFO] generation 0: 0/1000 nfe\n",
      "[MainProcess/INFO] generation 5: 496/1000 nfe\n",
      "[MainProcess/INFO] generation 10: 992/1000 nfe\n",
      "[MainProcess/INFO] optimization completed, found 11 solutions\n",
      "[MainProcess/INFO] terminating pool\n"
     ]
    }
   ],
   "source": [
    "# 1000 experiments\n",
    "with MultiprocessingEvaluator(model) as evaluator:\n",
    "    results1 = evaluator.optimize(nfe=1000, epsilons=[0.1, 0.1, 0.1, 0.1])"
   ]
  },
  {
   "cell_type": "code",
   "execution_count": 4,
   "metadata": {},
   "outputs": [
    {
     "name": "stderr",
     "output_type": "stream",
     "text": [
      "[MainProcess/INFO] pool started\n",
      "[MainProcess/INFO] generation 0: 0/10000 nfe\n",
      "[MainProcess/INFO] generation 5: 495/10000 nfe\n",
      "[MainProcess/INFO] generation 10: 994/10000 nfe\n",
      "[MainProcess/INFO] generation 15: 1492/10000 nfe\n",
      "[MainProcess/INFO] generation 20: 1989/10000 nfe\n",
      "[MainProcess/INFO] generation 25: 2485/10000 nfe\n",
      "[MainProcess/INFO] generation 30: 2978/10000 nfe\n",
      "[MainProcess/INFO] generation 35: 3468/10000 nfe\n",
      "[MainProcess/INFO] generation 40: 3965/10000 nfe\n",
      "[MainProcess/INFO] generation 45: 4459/10000 nfe\n",
      "[MainProcess/INFO] generation 50: 4955/10000 nfe\n",
      "[MainProcess/INFO] generation 55: 5452/10000 nfe\n",
      "[MainProcess/INFO] generation 60: 5950/10000 nfe\n",
      "[MainProcess/INFO] generation 65: 6444/10000 nfe\n",
      "[MainProcess/INFO] generation 70: 6938/10000 nfe\n",
      "[MainProcess/INFO] generation 75: 7432/10000 nfe\n",
      "[MainProcess/INFO] generation 80: 7930/10000 nfe\n",
      "[MainProcess/INFO] generation 85: 8426/10000 nfe\n",
      "[MainProcess/INFO] generation 90: 8924/10000 nfe\n",
      "[MainProcess/INFO] generation 95: 9419/10000 nfe\n",
      "[MainProcess/INFO] generation 100: 9913/10000 nfe\n",
      "[MainProcess/INFO] optimization completed, found 128 solutions\n",
      "[MainProcess/INFO] terminating pool\n"
     ]
    }
   ],
   "source": [
    "# 10,000 experiments\n",
    "with MultiprocessingEvaluator(model) as evaluator:\n",
    "    results2 = evaluator.optimize(nfe=10000, epsilons=[0.01, 0.01, 0.01, 0.01])"
   ]
  },
  {
   "cell_type": "code",
   "execution_count": 5,
   "metadata": {},
   "outputs": [
    {
     "name": "stderr",
     "output_type": "stream",
     "text": [
      "[MainProcess/INFO] pool started\n",
      "[MainProcess/INFO] generation 0: 0/10000 nfe\n",
      "[MainProcess/INFO] generation 5: 498/10000 nfe\n",
      "[MainProcess/INFO] generation 10: 994/10000 nfe\n",
      "[MainProcess/INFO] generation 15: 1488/10000 nfe\n",
      "[MainProcess/INFO] generation 20: 1986/10000 nfe\n",
      "[MainProcess/INFO] generation 25: 2483/10000 nfe\n",
      "[MainProcess/INFO] generation 30: 2979/10000 nfe\n",
      "[MainProcess/INFO] generation 35: 3473/10000 nfe\n",
      "[MainProcess/INFO] generation 40: 3969/10000 nfe\n",
      "[MainProcess/INFO] generation 45: 4462/10000 nfe\n",
      "[MainProcess/INFO] generation 50: 4955/10000 nfe\n",
      "[MainProcess/INFO] generation 55: 5444/10000 nfe\n",
      "[MainProcess/INFO] generation 60: 5943/10000 nfe\n",
      "[MainProcess/INFO] generation 65: 6437/10000 nfe\n",
      "[MainProcess/INFO] generation 70: 6927/10000 nfe\n",
      "[MainProcess/INFO] generation 75: 7420/10000 nfe\n",
      "[MainProcess/INFO] generation 80: 7914/10000 nfe\n",
      "[MainProcess/INFO] generation 85: 8411/10000 nfe\n",
      "[MainProcess/INFO] generation 90: 8904/10000 nfe\n",
      "[MainProcess/INFO] generation 95: 9400/10000 nfe\n",
      "[MainProcess/INFO] generation 100: 9894/10000 nfe\n",
      "[MainProcess/INFO] optimization completed, found 14 solutions\n",
      "[MainProcess/INFO] terminating pool\n"
     ]
    }
   ],
   "source": [
    "# 10,000 experiments\n",
    "with MultiprocessingEvaluator(model) as evaluator:\n",
    "    results3 = evaluator.optimize(nfe=10000, epsilons=[0.1, 0.1, 0.1, 0.1])"
   ]
  },
  {
   "cell_type": "code",
   "execution_count": 6,
   "metadata": {},
   "outputs": [],
   "source": [
    "# convergance\n",
    "from ema_workbench.em_framework.optimization import (HyperVolume,\n",
    "                                                     EpsilonProgress)\n",
    "from ema_workbench import Constraint\n",
    "\n",
    "#specify outcomes  \n",
    "model.outcomes = [ScalarOutcome('max_P', kind=ScalarOutcome.MINIMIZE,\n",
    "                                     expected_range=(0,5)),\n",
    "                       ScalarOutcome('utility', kind=ScalarOutcome.MAXIMIZE,\n",
    "                                     expected_range=(0,2)),\n",
    "                       ScalarOutcome('inertia', kind=ScalarOutcome.MAXIMIZE,\n",
    "                                    expected_range=(0,1)),\n",
    "                       ScalarOutcome('reliability', kind=ScalarOutcome.MAXIMIZE,\n",
    "                                     expected_range=(0,1))]\n",
    "\n",
    "convergence_metrics = [HyperVolume.from_outcomes(model.outcomes),\n",
    "                       EpsilonProgress()]\n",
    "\n",
    "constraints = [Constraint(\"max pollution\", outcome_names=\"max_P\",\n",
    "                          function=lambda x:max(0, x-5))]"
   ]
  },
  {
   "cell_type": "code",
   "execution_count": 7,
   "metadata": {},
   "outputs": [
    {
     "name": "stderr",
     "output_type": "stream",
     "text": [
      "[MainProcess/INFO] pool started\n",
      "[MainProcess/INFO] generation 0: 0/1000 nfe\n",
      "[MainProcess/INFO] generation 5: 494/1000 nfe\n",
      "[MainProcess/INFO] generation 10: 985/1000 nfe\n",
      "[MainProcess/INFO] optimization completed, found 9 solutions\n",
      "[MainProcess/INFO] terminating pool\n"
     ]
    }
   ],
   "source": [
    "with MultiprocessingEvaluator(model) as evaluator:\n",
    "    results, convergence = evaluator.optimize(nfe=1000, searchover='levers',\n",
    "                                    epsilons=[0.1, 0.1, 0.1, 0.1],\n",
    "                                    convergence=convergence_metrics,\n",
    "                                    constraints=constraints)"
   ]
  },
  {
   "cell_type": "code",
   "execution_count": 8,
   "metadata": {},
   "outputs": [
    {
     "data": {
      "image/png": "[encoded data removed]",
      "text/plain": [
       "<Figure size 432x288 with 2 Axes>"
      ]
     },
     "metadata": {
      "needs_background": "light"
     },
     "output_type": "display_data"
    }
   ],
   "source": [
    "import matplotlib.pyplot as plt\n",
    "\n",
    "fig, (ax1, ax2) = plt.subplots(ncols=2, sharex=True)\n",
    "\n",
    "ax1.plot(convergence.nfe, convergence.epsilon_progress)\n",
    "ax1.set_ylabel('$\\epsilon$-progress')\n",
    "ax2.plot(convergence.nfe, convergence.hypervolume)\n",
    "ax2.set_ylabel('hypervolume')\n",
    "\n",
    "ax1.set_xlabel('number of function evaluations')\n",
    "ax2.set_xlabel('number of function evaluations')\n",
    "plt.show()"
   ]
  },
  {
   "cell_type": "code",
   "execution_count": 9,
   "metadata": {},
   "outputs": [
    {
     "name": "stderr",
     "output_type": "stream",
     "text": [
      "[MainProcess/INFO] pool started\n",
      "[MainProcess/INFO] generation 0: 0/10000 nfe\n",
      "[MainProcess/INFO] generation 5: 498/10000 nfe\n",
      "[MainProcess/INFO] generation 10: 996/10000 nfe\n",
      "[MainProcess/INFO] generation 15: 1487/10000 nfe\n",
      "[MainProcess/INFO] generation 20: 1984/10000 nfe\n",
      "[MainProcess/INFO] generation 25: 2478/10000 nfe\n",
      "[MainProcess/INFO] generation 30: 2974/10000 nfe\n",
      "[MainProcess/INFO] generation 35: 3470/10000 nfe\n",
      "[MainProcess/INFO] generation 40: 3969/10000 nfe\n",
      "[MainProcess/INFO] generation 45: 4461/10000 nfe\n",
      "[MainProcess/INFO] generation 50: 4956/10000 nfe\n",
      "[MainProcess/INFO] generation 55: 5454/10000 nfe\n",
      "[MainProcess/INFO] generation 60: 5950/10000 nfe\n",
      "[MainProcess/INFO] generation 65: 6448/10000 nfe\n",
      "[MainProcess/INFO] generation 70: 6938/10000 nfe\n",
      "[MainProcess/INFO] generation 75: 7434/10000 nfe\n",
      "[MainProcess/INFO] generation 80: 7926/10000 nfe\n",
      "[MainProcess/INFO] generation 85: 8422/10000 nfe\n",
      "[MainProcess/INFO] generation 90: 8917/10000 nfe\n",
      "[MainProcess/INFO] generation 95: 9413/10000 nfe\n",
      "[MainProcess/INFO] generation 100: 9911/10000 nfe\n",
      "[MainProcess/INFO] optimization completed, found 13 solutions\n",
      "[MainProcess/INFO] terminating pool\n"
     ]
    }
   ],
   "source": [
    "with MultiprocessingEvaluator(model) as evaluator:\n",
    "    results, convergence = evaluator.optimize(nfe=10000, searchover='levers',\n",
    "                                    epsilons=[0.1, 0.1, 0.1, 0.1],\n",
    "                                    convergence=convergence_metrics,\n",
    "                                    constraints=constraints)"
   ]
  },
  {
   "cell_type": "code",
   "execution_count": 10,
   "metadata": {},
   "outputs": [
    {
     "data": {
      "image/png": "[encoded data removed]",
      "text/plain": [
       "<Figure size 432x288 with 2 Axes>"
      ]
     },
     "metadata": {
      "needs_background": "light"
     },
     "output_type": "display_data"
    }
   ],
   "source": [
    "fig, (ax1, ax2) = plt.subplots(ncols=2, sharex=True)\n",
    "\n",
    "ax1.plot(convergence.nfe, convergence.epsilon_progress)\n",
    "ax1.set_ylabel('$\\epsilon$-progress')\n",
    "ax2.plot(convergence.nfe, convergence.hypervolume)\n",
    "ax2.set_ylabel('hypervolume')\n",
    "\n",
    "ax1.set_xlabel('number of function evaluations')\n",
    "ax2.set_xlabel('number of function evaluations')\n",
    "plt.show()"
   ]
  },
  {
   "cell_type": "markdown",
   "metadata": {},
   "source": [
    "With 10,000 nfe there is already a convergence of hypervolume and e-progress is beginning to converge"
   ]
  },
  {
   "cell_type": "markdown",
   "metadata": {},
   "source": [
    "**plot the tradeoffs you have found using a parallel axis plot**\n",
    "\n",
    "We can visualize these tradeoffs on **parallel axis plots**. In these plots, each dimension is shown as a vertical axis. Each solution is represented by a line on this plot, which crosses the objective axes at the corresponsing value. You can use the [parcoords functionality](https://emaworkbench.readthedocs.io/en/latest/ema_documentation/analysis/parcoords.html) for this that comes with the ema_workbench. Ensure that the direction of desirability is the same for the four objectives.|\n",
    "\n"
   ]
  },
  {
   "cell_type": "code",
   "execution_count": 11,
   "metadata": {},
   "outputs": [
    {
     "data": {
      "image/png": "[encoded data removed]",
      "text/plain": [
       "<Figure size 432x288 with 3 Axes>"
      ]
     },
     "metadata": {},
     "output_type": "display_data"
    }
   ],
   "source": [
    "# parallel axis plot\n",
    "from ema_workbench.analysis import parcoords\n",
    "\n",
    "outcomes = results.loc[:, ['max_P', 'utility', 'reliability','inertia']]\n",
    "\n",
    "limits = parcoords.get_limits(outcomes)\n",
    "axes = parcoords.ParallelAxes(limits)\n",
    "axes.plot(outcomes)\n",
    "\n",
    "# we invert this axis so direction of desirability is the same \n",
    "axes.invert_axis('max_P') \n",
    "plt.show()"
   ]
  },
  {
   "cell_type": "markdown",
   "metadata": {},
   "source": [
    "**What does this plot tell us about the tradeoffs and conflicting objectives?**"
   ]
  },
  {
   "cell_type": "markdown",
   "metadata": {},
   "source": [
    "!! write tradeoffs here !!!"
   ]
  },
  {
   "cell_type": "markdown",
   "metadata": {},
   "source": [
    "## Step 3: Re-evaluate candidate solutions under uncertainty\n",
    "\n",
    "We now have a large number of candidate solutions (policies), we can re-evaluate them over the various deeply uncertain factors to assess their robustness against uncertainties.\n",
    "\n",
    "For this robustness evaluation, we need to explore the scenarios for each solution. It means that, if we would like to run for instance 1000 scenarios for each solution, we might have to execute a very large number of runs.\n",
    "\n",
    "Here, to simplify the case, let's suppose that decision makers have a hard constrain on *reliability*. No solution with less than 90% reliability is acceptable for them. Therefore, we can reduce the size of the solution set according to this constraint. \n",
    "\n",
    "**Apply this constraint of reliability on the results, and create a new dataframe named new_reults**\n"
   ]
  },
  {
   "cell_type": "code",
   "execution_count": 12,
   "metadata": {},
   "outputs": [
    {
     "data": {
      "text/html": [
       "<div>\n",
       "<style scoped>\n",
       "    .dataframe tbody tr th:only-of-type {\n",
       "        vertical-align: middle;\n",
       "    }\n",
       "\n",
       "    .dataframe tbody tr th {\n",
       "        vertical-align: top;\n",
       "    }\n",
       "\n",
       "    .dataframe thead th {\n",
       "        text-align: right;\n",
       "    }\n",
       "</style>\n",
       "<table border=\"1\" class=\"dataframe\">\n",
       "  <thead>\n",
       "    <tr style=\"text-align: right;\">\n",
       "      <th></th>\n",
       "      <th>c1</th>\n",
       "      <th>c2</th>\n",
       "      <th>r1</th>\n",
       "      <th>r2</th>\n",
       "      <th>w1</th>\n",
       "      <th>max_P</th>\n",
       "      <th>utility</th>\n",
       "      <th>inertia</th>\n",
       "      <th>reliability</th>\n",
       "    </tr>\n",
       "  </thead>\n",
       "  <tbody>\n",
       "    <tr>\n",
       "      <th>12</th>\n",
       "      <td>-0.684821</td>\n",
       "      <td>-0.071241</td>\n",
       "      <td>1.158709</td>\n",
       "      <td>1.387136</td>\n",
       "      <td>0.722704</td>\n",
       "      <td>2.283648</td>\n",
       "      <td>1.734761</td>\n",
       "      <td>0.9900</td>\n",
       "      <td>0.0700</td>\n",
       "    </tr>\n",
       "    <tr>\n",
       "      <th>11</th>\n",
       "      <td>-0.416962</td>\n",
       "      <td>0.180799</td>\n",
       "      <td>1.163404</td>\n",
       "      <td>0.097046</td>\n",
       "      <td>0.115917</td>\n",
       "      <td>2.177611</td>\n",
       "      <td>1.606686</td>\n",
       "      <td>0.9760</td>\n",
       "      <td>0.1364</td>\n",
       "    </tr>\n",
       "    <tr>\n",
       "      <th>2</th>\n",
       "      <td>-0.488802</td>\n",
       "      <td>0.303434</td>\n",
       "      <td>1.616892</td>\n",
       "      <td>0.249258</td>\n",
       "      <td>0.267371</td>\n",
       "      <td>2.283757</td>\n",
       "      <td>1.361136</td>\n",
       "      <td>0.9766</td>\n",
       "      <td>0.2205</td>\n",
       "    </tr>\n",
       "    <tr>\n",
       "      <th>1</th>\n",
       "      <td>-0.437026</td>\n",
       "      <td>0.303434</td>\n",
       "      <td>1.483809</td>\n",
       "      <td>0.249258</td>\n",
       "      <td>0.237261</td>\n",
       "      <td>2.283778</td>\n",
       "      <td>1.206022</td>\n",
       "      <td>0.9757</td>\n",
       "      <td>0.3025</td>\n",
       "    </tr>\n",
       "    <tr>\n",
       "      <th>6</th>\n",
       "      <td>-0.407969</td>\n",
       "      <td>0.285581</td>\n",
       "      <td>1.511512</td>\n",
       "      <td>0.147136</td>\n",
       "      <td>0.268857</td>\n",
       "      <td>1.900356</td>\n",
       "      <td>1.105751</td>\n",
       "      <td>0.9787</td>\n",
       "      <td>0.4280</td>\n",
       "    </tr>\n",
       "    <tr>\n",
       "      <th>8</th>\n",
       "      <td>-0.407969</td>\n",
       "      <td>0.285581</td>\n",
       "      <td>1.511512</td>\n",
       "      <td>0.147136</td>\n",
       "      <td>0.268857</td>\n",
       "      <td>1.698704</td>\n",
       "      <td>1.052209</td>\n",
       "      <td>0.9798</td>\n",
       "      <td>0.4885</td>\n",
       "    </tr>\n",
       "    <tr>\n",
       "      <th>7</th>\n",
       "      <td>-0.416962</td>\n",
       "      <td>0.303434</td>\n",
       "      <td>1.524801</td>\n",
       "      <td>0.257837</td>\n",
       "      <td>0.268857</td>\n",
       "      <td>2.283569</td>\n",
       "      <td>0.900987</td>\n",
       "      <td>0.9765</td>\n",
       "      <td>0.5253</td>\n",
       "    </tr>\n",
       "    <tr>\n",
       "      <th>9</th>\n",
       "      <td>-0.416962</td>\n",
       "      <td>0.304553</td>\n",
       "      <td>1.163404</td>\n",
       "      <td>0.070463</td>\n",
       "      <td>0.047258</td>\n",
       "      <td>0.768006</td>\n",
       "      <td>0.815812</td>\n",
       "      <td>0.9131</td>\n",
       "      <td>0.7807</td>\n",
       "    </tr>\n",
       "    <tr>\n",
       "      <th>4</th>\n",
       "      <td>-0.416962</td>\n",
       "      <td>0.303434</td>\n",
       "      <td>1.539361</td>\n",
       "      <td>0.075996</td>\n",
       "      <td>0.220264</td>\n",
       "      <td>0.730956</td>\n",
       "      <td>0.742095</td>\n",
       "      <td>0.9869</td>\n",
       "      <td>0.8188</td>\n",
       "    </tr>\n",
       "    <tr>\n",
       "      <th>10</th>\n",
       "      <td>-0.416962</td>\n",
       "      <td>0.304553</td>\n",
       "      <td>1.163404</td>\n",
       "      <td>0.070463</td>\n",
       "      <td>0.047258</td>\n",
       "      <td>0.548764</td>\n",
       "      <td>0.691221</td>\n",
       "      <td>0.8976</td>\n",
       "      <td>0.8809</td>\n",
       "    </tr>\n",
       "    <tr>\n",
       "      <th>5</th>\n",
       "      <td>-0.416962</td>\n",
       "      <td>0.303434</td>\n",
       "      <td>1.536893</td>\n",
       "      <td>0.257837</td>\n",
       "      <td>0.268857</td>\n",
       "      <td>1.027107</td>\n",
       "      <td>0.600566</td>\n",
       "      <td>0.9846</td>\n",
       "      <td>0.9260</td>\n",
       "    </tr>\n",
       "    <tr>\n",
       "      <th>0</th>\n",
       "      <td>0.462148</td>\n",
       "      <td>0.225088</td>\n",
       "      <td>1.532849</td>\n",
       "      <td>0.575082</td>\n",
       "      <td>0.528325</td>\n",
       "      <td>0.099653</td>\n",
       "      <td>0.260573</td>\n",
       "      <td>0.9900</td>\n",
       "      <td>1.0000</td>\n",
       "    </tr>\n",
       "    <tr>\n",
       "      <th>3</th>\n",
       "      <td>-0.416962</td>\n",
       "      <td>0.295478</td>\n",
       "      <td>1.567198</td>\n",
       "      <td>0.437604</td>\n",
       "      <td>0.268857</td>\n",
       "      <td>0.193848</td>\n",
       "      <td>0.517178</td>\n",
       "      <td>0.9900</td>\n",
       "      <td>1.0000</td>\n",
       "    </tr>\n",
       "  </tbody>\n",
       "</table>\n",
       "</div>"
      ],
      "text/plain": [
       "          c1        c2        r1        r2        w1     max_P   utility  \\\n",
       "12 -0.684821 -0.071241  1.158709  1.387136  0.722704  2.283648  1.734761   \n",
       "11 -0.416962  0.180799  1.163404  0.097046  0.115917  2.177611  1.606686   \n",
       "2  -0.488802  0.303434  1.616892  0.249258  0.267371  2.283757  1.361136   \n",
       "1  -0.437026  0.303434  1.483809  0.249258  0.237261  2.283778  1.206022   \n",
       "6  -0.407969  0.285581  1.511512  0.147136  0.268857  1.900356  1.105751   \n",
       "8  -0.407969  0.285581  1.511512  0.147136  0.268857  1.698704  1.052209   \n",
       "7  -0.416962  0.303434  1.524801  0.257837  0.268857  2.283569  0.900987   \n",
       "9  -0.416962  0.304553  1.163404  0.070463  0.047258  0.768006  0.815812   \n",
       "4  -0.416962  0.303434  1.539361  0.075996  0.220264  0.730956  0.742095   \n",
       "10 -0.416962  0.304553  1.163404  0.070463  0.047258  0.548764  0.691221   \n",
       "5  -0.416962  0.303434  1.536893  0.257837  0.268857  1.027107  0.600566   \n",
       "0   0.462148  0.225088  1.532849  0.575082  0.528325  0.099653  0.260573   \n",
       "3  -0.416962  0.295478  1.567198  0.437604  0.268857  0.193848  0.517178   \n",
       "\n",
       "    inertia  reliability  \n",
       "12   0.9900       0.0700  \n",
       "11   0.9760       0.1364  \n",
       "2    0.9766       0.2205  \n",
       "1    0.9757       0.3025  \n",
       "6    0.9787       0.4280  \n",
       "8    0.9798       0.4885  \n",
       "7    0.9765       0.5253  \n",
       "9    0.9131       0.7807  \n",
       "4    0.9869       0.8188  \n",
       "10   0.8976       0.8809  \n",
       "5    0.9846       0.9260  \n",
       "0    0.9900       1.0000  \n",
       "3    0.9900       1.0000  "
      ]
     },
     "execution_count": 12,
     "metadata": {},
     "output_type": "execute_result"
    }
   ],
   "source": [
    "import pandas as pd\n",
    "\n",
    "#sort values for 90 % \n",
    "df = pd.DataFrame(results)\n",
    "df.sort_values(\"reliability\", inplace = True)\n",
    "\n",
    "df"
   ]
  },
  {
   "cell_type": "code",
   "execution_count": 13,
   "metadata": {},
   "outputs": [
    {
     "data": {
      "text/html": [
       "<div>\n",
       "<style scoped>\n",
       "    .dataframe tbody tr th:only-of-type {\n",
       "        vertical-align: middle;\n",
       "    }\n",
       "\n",
       "    .dataframe tbody tr th {\n",
       "        vertical-align: top;\n",
       "    }\n",
       "\n",
       "    .dataframe thead th {\n",
       "        text-align: right;\n",
       "    }\n",
       "</style>\n",
       "<table border=\"1\" class=\"dataframe\">\n",
       "  <thead>\n",
       "    <tr style=\"text-align: right;\">\n",
       "      <th></th>\n",
       "      <th>c1</th>\n",
       "      <th>c2</th>\n",
       "      <th>r1</th>\n",
       "      <th>r2</th>\n",
       "      <th>w1</th>\n",
       "    </tr>\n",
       "  </thead>\n",
       "  <tbody>\n",
       "    <tr>\n",
       "      <th>5</th>\n",
       "      <td>-0.416962</td>\n",
       "      <td>0.303434</td>\n",
       "      <td>1.536893</td>\n",
       "      <td>0.257837</td>\n",
       "      <td>0.268857</td>\n",
       "    </tr>\n",
       "    <tr>\n",
       "      <th>0</th>\n",
       "      <td>0.462148</td>\n",
       "      <td>0.225088</td>\n",
       "      <td>1.532849</td>\n",
       "      <td>0.575082</td>\n",
       "      <td>0.528325</td>\n",
       "    </tr>\n",
       "    <tr>\n",
       "      <th>3</th>\n",
       "      <td>-0.416962</td>\n",
       "      <td>0.295478</td>\n",
       "      <td>1.567198</td>\n",
       "      <td>0.437604</td>\n",
       "      <td>0.268857</td>\n",
       "    </tr>\n",
       "  </tbody>\n",
       "</table>\n",
       "</div>"
      ],
      "text/plain": [
       "         c1        c2        r1        r2        w1\n",
       "5 -0.416962  0.303434  1.536893  0.257837  0.268857\n",
       "0  0.462148  0.225088  1.532849  0.575082  0.528325\n",
       "3 -0.416962  0.295478  1.567198  0.437604  0.268857"
      ]
     },
     "execution_count": 13,
     "metadata": {},
     "output_type": "execute_result"
    }
   ],
   "source": [
    "#drop values\n",
    "new_results = df[df['reliability'] > 0.9] \n",
    "new_results = new_results.drop(['max_P','utility','inertia','reliability'],axis=1)\n",
    "new_results"
   ]
  },
  {
   "cell_type": "markdown",
   "metadata": {},
   "source": [
    "\n",
    "**From new_results, which is the reduced dataframe of candidate solutions, make a list of policies in a format that can be inputed to the *perform_experiments* function of the EMA workbench.**\n",
    "\n",
    "*hint: you need to transform each policy to a dict, and then use this dict as input for the Policy class that comes with the workbench*"
   ]
  },
  {
   "cell_type": "code",
   "execution_count": 14,
   "metadata": {},
   "outputs": [],
   "source": [
    "#create policies\n",
    "from ema_workbench import Policy\n",
    "\n",
    "policies = []\n",
    "\n",
    "for i, policy in new_results.iterrows():\n",
    "    policies.append(Policy(str(i), **policy.to_dict()))"
   ]
  },
  {
   "cell_type": "code",
   "execution_count": 15,
   "metadata": {},
   "outputs": [
    {
     "data": {
      "text/plain": [
       "[Policy({'c1': -0.41696218320545486, 'c2': 0.3034335625836155, 'r1': 1.5368926275681691, 'r2': 0.25783734072954834, 'w1': 0.26885713830107494}),\n",
       " Policy({'c1': 0.4621480025488937, 'c2': 0.2250878300673837, 'r1': 1.532848750862613, 'r2': 0.57508216624155, 'w1': 0.5283250720876136}),\n",
       " Policy({'c1': -0.41696218320545486, 'c2': 0.29547778055670876, 'r1': 1.5671977544605296, 'r2': 0.4376041477155682, 'w1': 0.26885713830107494})]"
      ]
     },
     "execution_count": 15,
     "metadata": {},
     "output_type": "execute_result"
    }
   ],
   "source": [
    "policies"
   ]
  },
  {
   "cell_type": "markdown",
   "metadata": {},
   "source": [
    "**Perform 1000 scenarios for each of the policy options. Depending on how many solutions are left after implementing the constraint, consider using multiprocessing or ipyparallel to speed up calculations.**\n",
    "\n",
    "If you want to use ipyparallel, don't forget to start ipcluster."
   ]
  },
  {
   "cell_type": "code",
   "execution_count": 39,
   "metadata": {},
   "outputs": [
    {
     "name": "stderr",
     "output_type": "stream",
     "text": [
      "[MainProcess/INFO] pool started\n",
      "[MainProcess/INFO] performing 1000 scenarios * 3 policies * 1 model(s) = 3000 experiments\n",
      "[MainProcess/INFO] 300 cases completed\n",
      "[MainProcess/INFO] 600 cases completed\n",
      "[MainProcess/INFO] 900 cases completed\n",
      "[MainProcess/INFO] 1200 cases completed\n",
      "[MainProcess/INFO] 1500 cases completed\n",
      "[MainProcess/INFO] 1800 cases completed\n",
      "[MainProcess/INFO] 2100 cases completed\n",
      "[MainProcess/INFO] 2400 cases completed\n",
      "[MainProcess/INFO] 2700 cases completed\n",
      "[MainProcess/INFO] 3000 cases completed\n",
      "[MainProcess/INFO] experiments finished\n",
      "[MainProcess/INFO] terminating pool\n"
     ]
    }
   ],
   "source": [
    "from ema_workbench import (MultiprocessingEvaluator,\n",
    "                           perform_experiments)\n",
    "\n",
    "with MultiprocessingEvaluator(model) as evaluator:\n",
    "    results = evaluator.perform_experiments(scenarios=1000, policies=policies)"
   ]
  },
  {
   "cell_type": "code",
   "execution_count": 166,
   "metadata": {},
   "outputs": [],
   "source": [
    "experiments, outcomes = results"
   ]
  },
  {
   "cell_type": "markdown",
   "metadata": {},
   "source": [
    "We can now evaluate the **robustness** of each of the policy options based on these scenario results. We can calculate the robustness of a policy option in terms of its performance on an outcome indicator across the 1000 scenarios. In other words, we can identify how robust a policy is in terms of each outcome indicator, and investigate the robustness tradeoffs.  \n",
    "\n",
    "There are multiple metrics to quantify robustness. On of them is the *signal to noise ratio*, which is simply the mean of a dataset divided by its standard deviation. For instance, for an outcome indicator to be maximized, we prefer a high average value across the scenarios, and a low standard deviation, implying a narrow uncertaintiy range. Therefore, we want to maximize the signal-to-noise ratio. For an outcome indicator to be minimized, a lower mean and a lower standard deviation is preferred. Therefore the formulation is different.\n",
    "\n",
    "**Write a function to calculate the signal-to-noise ratio for both kinds of outcome indicators. Calculate the signal-to-noise ratios for each outcome and each policy option. Plot the tradeoffs on a parallel axis plot. Which solutions look like a good compromise policy?**"
   ]
  },
  {
   "cell_type": "code",
   "execution_count": 64,
   "metadata": {},
   "outputs": [],
   "source": [
    "def stn(results):\n",
    "    \n",
    "    max_P = outcomes['max_P']\n",
    "    utility = outcomes['utility']\n",
    "    inertia = outcomes['inertia']\n",
    "    reliability = outcomes['reliability']\n",
    "    \n",
    "    stn_max_P = []\n",
    "    stn_utility = []\n",
    "    stn_inertia = []\n",
    "    stn_reliability = []\n",
    "    \n",
    "    for i in range(1,int(len(outcomes['max_P'])/1000)+1):\n",
    "        stn_max_P.append(max_P[(i-1)*1000:i*1000].mean()/max_P[(i-1)*1000:i*1000].std())\n",
    "        stn_utility.append(utility[(i-1)*1000:i*1000].mean()/utility[(i-1)*1000:i*1000].std())\n",
    "        stn_inertia.append(inertia[(i-1)*1000:i*1000].mean()/inertia[(i-1)*1000:i*1000].std())\n",
    "        stn_reliability.append(reliability[(i-1)*1000:i*1000].mean()/reliability[(i-1)*1000:i*1000].std())\n",
    "        \n",
    "    return stn_max_P, stn_utility, stn_inertia, stn_reliability"
   ]
  },
  {
   "cell_type": "code",
   "execution_count": 71,
   "metadata": {},
   "outputs": [],
   "source": [
    "outcome_stn = pd.DataFrame(stn(results)).T"
   ]
  },
  {
   "cell_type": "code",
   "execution_count": 80,
   "metadata": {},
   "outputs": [
    {
     "data": {
      "text/html": [
       "<div>\n",
       "<style scoped>\n",
       "    .dataframe tbody tr th:only-of-type {\n",
       "        vertical-align: middle;\n",
       "    }\n",
       "\n",
       "    .dataframe tbody tr th {\n",
       "        vertical-align: top;\n",
       "    }\n",
       "\n",
       "    .dataframe thead th {\n",
       "        text-align: right;\n",
       "    }\n",
       "</style>\n",
       "<table border=\"1\" class=\"dataframe\">\n",
       "  <thead>\n",
       "    <tr style=\"text-align: right;\">\n",
       "      <th></th>\n",
       "      <th>0</th>\n",
       "      <th>1</th>\n",
       "      <th>2</th>\n",
       "      <th>3</th>\n",
       "    </tr>\n",
       "  </thead>\n",
       "  <tbody>\n",
       "    <tr>\n",
       "      <th>0</th>\n",
       "      <td>0.951246</td>\n",
       "      <td>1.661237</td>\n",
       "      <td>86.970195</td>\n",
       "      <td>1.220228</td>\n",
       "    </tr>\n",
       "    <tr>\n",
       "      <th>1</th>\n",
       "      <td>0.669261</td>\n",
       "      <td>0.925057</td>\n",
       "      <td>121.111337</td>\n",
       "      <td>1.962152</td>\n",
       "    </tr>\n",
       "    <tr>\n",
       "      <th>2</th>\n",
       "      <td>0.910572</td>\n",
       "      <td>1.431861</td>\n",
       "      <td>133.769972</td>\n",
       "      <td>1.348427</td>\n",
       "    </tr>\n",
       "  </tbody>\n",
       "</table>\n",
       "</div>"
      ],
      "text/plain": [
       "          0         1           2         3\n",
       "0  0.951246  1.661237   86.970195  1.220228\n",
       "1  0.669261  0.925057  121.111337  1.962152\n",
       "2  0.910572  1.431861  133.769972  1.348427"
      ]
     },
     "execution_count": 80,
     "metadata": {},
     "output_type": "execute_result"
    }
   ],
   "source": [
    "outcome_stn"
   ]
  },
  {
   "cell_type": "code",
   "execution_count": 72,
   "metadata": {
    "scrolled": true
   },
   "outputs": [
    {
     "data": {
      "image/png": "[encoded data removed]",
      "text/plain": [
       "<Figure size 432x288 with 3 Axes>"
      ]
     },
     "metadata": {},
     "output_type": "display_data"
    }
   ],
   "source": [
    "limits = parcoords.get_limits(outcome_stn)\n",
    "axes = parcoords.ParallelAxes(limits)\n",
    "axes.plot(outcome_stn)\n",
    "\n",
    "plt.show()"
   ]
  },
  {
   "cell_type": "markdown",
   "metadata": {},
   "source": [
    "Another robustness metric is **maximum regret**, calculated again for each policy and for each outcome indicator. *Regret* is defined for each policy under each scenario, as the difference between the performance of the policy in a specific scenario and the performance of a no-regret (i.e. best possible result in that scenario) policy. The *maximum regret*  is then the maximum of such regret values across all scenarios. We of course favor policy options with low *maximum regret* values. \n",
    "\n",
    "**Write a function to calculate the maximum regret. Calculate the maximum regret values for each outcome and each policy option. Plot the tradeoffs on a parallel plot. Which solutions look like a good compromise policy?**"
   ]
  },
  {
   "cell_type": "code",
   "execution_count": 132,
   "metadata": {},
   "outputs": [],
   "source": [
    "def max_regret(results):\n",
    "    \n",
    "    max_P = outcomes['max_P']\n",
    "    utility = outcomes['utility']\n",
    "    inertia = outcomes['inertia']\n",
    "    reliability = outcomes['reliability']\n",
    "    \n",
    "    mr_max_P = []\n",
    "    mr_utility = []\n",
    "    mr_inertia = []\n",
    "    mr_reliability = []\n",
    "    \n",
    "    for i in range(1,int(len(outcomes['max_P'])/1000)+1):\n",
    "        mr_max_P.append((max_P - outcomes['max_P'].min()).max())\n",
    "        mr_utility.append((abs(utility - outcomes['utility'].max())).max())\n",
    "        mr_inertia.append((abs(inertia - outcomes['inertia'].max())).max())\n",
    "        mr_reliability.append((abs(reliability - outcomes['reliability'].max())).max())\n",
    "        \n",
    "        \n",
    "    return mr_max_P, mr_utility, mr_inertia, mr_reliability"
   ]
  },
  {
   "cell_type": "code",
   "execution_count": 133,
   "metadata": {},
   "outputs": [],
   "source": [
    "outcome_mr = pd.DataFrame(max_regret(results)).T"
   ]
  },
  {
   "cell_type": "code",
   "execution_count": 134,
   "metadata": {
    "scrolled": true
   },
   "outputs": [
    {
     "data": {
      "text/html": [
       "<div>\n",
       "<style scoped>\n",
       "    .dataframe tbody tr th:only-of-type {\n",
       "        vertical-align: middle;\n",
       "    }\n",
       "\n",
       "    .dataframe tbody tr th {\n",
       "        vertical-align: top;\n",
       "    }\n",
       "\n",
       "    .dataframe thead th {\n",
       "        text-align: right;\n",
       "    }\n",
       "</style>\n",
       "<table border=\"1\" class=\"dataframe\">\n",
       "  <thead>\n",
       "    <tr style=\"text-align: right;\">\n",
       "      <th></th>\n",
       "      <th>0</th>\n",
       "      <th>1</th>\n",
       "      <th>2</th>\n",
       "      <th>3</th>\n",
       "    </tr>\n",
       "  </thead>\n",
       "  <tbody>\n",
       "    <tr>\n",
       "      <th>0</th>\n",
       "      <td>11.04341</td>\n",
       "      <td>2.370855</td>\n",
       "      <td>0.1644</td>\n",
       "      <td>0.99</td>\n",
       "    </tr>\n",
       "    <tr>\n",
       "      <th>1</th>\n",
       "      <td>11.04341</td>\n",
       "      <td>2.370855</td>\n",
       "      <td>0.1644</td>\n",
       "      <td>0.99</td>\n",
       "    </tr>\n",
       "    <tr>\n",
       "      <th>2</th>\n",
       "      <td>11.04341</td>\n",
       "      <td>2.370855</td>\n",
       "      <td>0.1644</td>\n",
       "      <td>0.99</td>\n",
       "    </tr>\n",
       "  </tbody>\n",
       "</table>\n",
       "</div>"
      ],
      "text/plain": [
       "          0         1       2     3\n",
       "0  11.04341  2.370855  0.1644  0.99\n",
       "1  11.04341  2.370855  0.1644  0.99\n",
       "2  11.04341  2.370855  0.1644  0.99"
      ]
     },
     "execution_count": 134,
     "metadata": {},
     "output_type": "execute_result"
    }
   ],
   "source": [
    "outcome_mr"
   ]
  },
  {
   "cell_type": "code",
   "execution_count": 136,
   "metadata": {},
   "outputs": [
    {
     "data": {
      "image/png": "[encoded data removed]",
      "text/plain": [
       "<Figure size 432x288 with 3 Axes>"
      ]
     },
     "metadata": {},
     "output_type": "display_data"
    }
   ],
   "source": [
    "limits = parcoords.get_limits(outcome_mr)\n",
    "axes = parcoords.ParallelAxes(limits)\n",
    "axes.plot(outcome_mr)\n",
    "\n",
    "plt.show()"
   ]
  },
  {
   "cell_type": "markdown",
   "metadata": {},
   "source": [
    "We now have an understanding of which solutions have decent robustness using 2 different robustness metrics. A related but different question is to assess the uncertain conditions under which we get poor performance. For this, we can use scenario discovery. Since we want to identify the uncertainties only, we can remove the policy column from the experiments DataFrame. \n",
    "\n",
    "**Perform Scenario Discovery, focussed on understanding the conditions under which utility is lower than 0.25**\n",
    "\n",
    "from the trade off curve between coverage, density and number of restricted dimensions, select a point which balances them. Next, using the `yi` attribute, select from the experiments data frame the rows which are within the box as well as the outcomes associated with these experiments.Save these results. They are the starting point for the next assignment. In pseudo code:\n",
    "\n",
    "```python\n",
    "from ema_workbench import save_results\n",
    "\n",
    "selected_experiments = experiments.iloc[box.yi]\n",
    "selected_outcomes = {k:v[box.yi] for k,v in outcomes.items()}\n",
    "\n",
    "save_results((selected_experiments, selected_outcomes), './results/selected_results.tar.gz')\n",
    "```\n",
    "\n",
    "\n",
    "\n"
   ]
  },
  {
   "cell_type": "code",
   "execution_count": 189,
   "metadata": {},
   "outputs": [],
   "source": [
    "import ema_workbench.analysis.prim as prim\n",
    "from ema_workbench import save_results, load_results\n",
    "\n",
    "experiments_SD = experiments.drop(['c1', 'c2', 'r1', 'r2', 'w1', 'policy', 'scenario', 'model'], axis=1)\n",
    "outcomes_SD = outcomes['utility'] <= 1"
   ]
  },
  {
   "cell_type": "code",
   "execution_count": 190,
   "metadata": {},
   "outputs": [
    {
     "name": "stderr",
     "output_type": "stream",
     "text": [
      "[MainProcess/INFO] 3000 points remaining, containing 2522 cases of interest\n",
      "[MainProcess/INFO] mean: 1.0, mass: 0.531, coverage: 0.6316415543219667, density: 1.0 restricted_dimensions: 1\n"
     ]
    },
    {
     "data": {
      "image/png": "[encoded data removed]",
      "text/plain": [
       "<Figure size 432x288 with 2 Axes>"
      ]
     },
     "metadata": {},
     "output_type": "display_data"
    }
   ],
   "source": [
    "prim_alg = prim.Prim(experiments_SD, outcomes_SD, threshold=0.6, peel_alpha=0.1)\n",
    "box1 = prim_alg.find_box()\n",
    "\n",
    "box1.show_tradeoff()\n",
    "plt.show()"
   ]
  },
  {
   "cell_type": "code",
   "execution_count": 191,
   "metadata": {},
   "outputs": [
    {
     "data": {
      "text/html": [
       "<div>\n",
       "<style scoped>\n",
       "    .dataframe tbody tr th:only-of-type {\n",
       "        vertical-align: middle;\n",
       "    }\n",
       "\n",
       "    .dataframe tbody tr th {\n",
       "        vertical-align: top;\n",
       "    }\n",
       "\n",
       "    .dataframe thead th {\n",
       "        text-align: right;\n",
       "    }\n",
       "</style>\n",
       "<table border=\"1\" class=\"dataframe\">\n",
       "  <thead>\n",
       "    <tr style=\"text-align: right;\">\n",
       "      <th></th>\n",
       "      <th>b</th>\n",
       "      <th>delta</th>\n",
       "      <th>mean</th>\n",
       "      <th>q</th>\n",
       "      <th>stdev</th>\n",
       "    </tr>\n",
       "  </thead>\n",
       "  <tbody>\n",
       "    <tr>\n",
       "      <th>0</th>\n",
       "      <td>0.159133</td>\n",
       "      <td>0.959376</td>\n",
       "      <td>0.049324</td>\n",
       "      <td>2.040052</td>\n",
       "      <td>0.002658</td>\n",
       "    </tr>\n",
       "    <tr>\n",
       "      <th>1</th>\n",
       "      <td>0.272900</td>\n",
       "      <td>0.976112</td>\n",
       "      <td>0.023539</td>\n",
       "      <td>4.011120</td>\n",
       "      <td>0.001843</td>\n",
       "    </tr>\n",
       "    <tr>\n",
       "      <th>2</th>\n",
       "      <td>0.128464</td>\n",
       "      <td>0.948733</td>\n",
       "      <td>0.015780</td>\n",
       "      <td>3.864516</td>\n",
       "      <td>0.003414</td>\n",
       "    </tr>\n",
       "    <tr>\n",
       "      <th>3</th>\n",
       "      <td>0.312723</td>\n",
       "      <td>0.933572</td>\n",
       "      <td>0.027670</td>\n",
       "      <td>2.359903</td>\n",
       "      <td>0.003359</td>\n",
       "    </tr>\n",
       "    <tr>\n",
       "      <th>4</th>\n",
       "      <td>0.235057</td>\n",
       "      <td>0.965641</td>\n",
       "      <td>0.036878</td>\n",
       "      <td>4.274531</td>\n",
       "      <td>0.004929</td>\n",
       "    </tr>\n",
       "    <tr>\n",
       "      <th>...</th>\n",
       "      <td>...</td>\n",
       "      <td>...</td>\n",
       "      <td>...</td>\n",
       "      <td>...</td>\n",
       "      <td>...</td>\n",
       "    </tr>\n",
       "    <tr>\n",
       "      <th>2995</th>\n",
       "      <td>0.215470</td>\n",
       "      <td>0.982566</td>\n",
       "      <td>0.024942</td>\n",
       "      <td>2.875158</td>\n",
       "      <td>0.002274</td>\n",
       "    </tr>\n",
       "    <tr>\n",
       "      <th>2996</th>\n",
       "      <td>0.366197</td>\n",
       "      <td>0.956736</td>\n",
       "      <td>0.039982</td>\n",
       "      <td>3.788697</td>\n",
       "      <td>0.001293</td>\n",
       "    </tr>\n",
       "    <tr>\n",
       "      <th>2997</th>\n",
       "      <td>0.318299</td>\n",
       "      <td>0.957168</td>\n",
       "      <td>0.041863</td>\n",
       "      <td>2.335658</td>\n",
       "      <td>0.004876</td>\n",
       "    </tr>\n",
       "    <tr>\n",
       "      <th>2998</th>\n",
       "      <td>0.289573</td>\n",
       "      <td>0.933273</td>\n",
       "      <td>0.010902</td>\n",
       "      <td>2.410280</td>\n",
       "      <td>0.004749</td>\n",
       "    </tr>\n",
       "    <tr>\n",
       "      <th>2999</th>\n",
       "      <td>0.231335</td>\n",
       "      <td>0.972297</td>\n",
       "      <td>0.021512</td>\n",
       "      <td>2.254932</td>\n",
       "      <td>0.003637</td>\n",
       "    </tr>\n",
       "  </tbody>\n",
       "</table>\n",
       "<p>3000 rows × 5 columns</p>\n",
       "</div>"
      ],
      "text/plain": [
       "             b     delta      mean         q     stdev\n",
       "0     0.159133  0.959376  0.049324  2.040052  0.002658\n",
       "1     0.272900  0.976112  0.023539  4.011120  0.001843\n",
       "2     0.128464  0.948733  0.015780  3.864516  0.003414\n",
       "3     0.312723  0.933572  0.027670  2.359903  0.003359\n",
       "4     0.235057  0.965641  0.036878  4.274531  0.004929\n",
       "...        ...       ...       ...       ...       ...\n",
       "2995  0.215470  0.982566  0.024942  2.875158  0.002274\n",
       "2996  0.366197  0.956736  0.039982  3.788697  0.001293\n",
       "2997  0.318299  0.957168  0.041863  2.335658  0.004876\n",
       "2998  0.289573  0.933273  0.010902  2.410280  0.004749\n",
       "2999  0.231335  0.972297  0.021512  2.254932  0.003637\n",
       "\n",
       "[3000 rows x 5 columns]"
      ]
     },
     "execution_count": 191,
     "metadata": {},
     "output_type": "execute_result"
    }
   ],
   "source": [
    "experiments_SD"
   ]
  },
  {
   "cell_type": "code",
   "execution_count": 192,
   "metadata": {},
   "outputs": [
    {
     "data": {
      "text/plain": [
       "array([ True,  True,  True, ...,  True,  True, False])"
      ]
     },
     "execution_count": 192,
     "metadata": {},
     "output_type": "execute_result"
    }
   ],
   "source": [
    "outcomes_SD"
   ]
  },
  {
   "cell_type": "code",
   "execution_count": 186,
   "metadata": {},
   "outputs": [
    {
     "name": "stdout",
     "output_type": "stream",
     "text": [
      "coverage    0.944092\n",
      "density     0.881852\n",
      "id                 1\n",
      "mass             0.9\n",
      "mean        0.881852\n",
      "res_dim            1\n",
      "Name: 1, dtype: object\n",
      "\n",
      "          box 1                                         \n",
      "            min       max                      qp values\n",
      "delta  0.930025  0.983976  [-1.0, 7.486911058295864e-10]\n",
      "\n"
     ]
    },
    {
     "ename": "TypeError",
     "evalue": "select() missing 1 required positional argument: 'i'",
     "output_type": "error",
     "traceback": [
      "\u001b[1;31m---------------------------------------------------------------------------\u001b[0m",
      "\u001b[1;31mTypeError\u001b[0m                                 Traceback (most recent call last)",
      "\u001b[1;32m<ipython-input-186-0b236e404107>\u001b[0m in \u001b[0;36m<module>\u001b[1;34m\u001b[0m\n\u001b[0;32m      1\u001b[0m \u001b[0mbox1\u001b[0m\u001b[1;33m.\u001b[0m\u001b[0minspect\u001b[0m\u001b[1;33m(\u001b[0m\u001b[1;33m)\u001b[0m\u001b[1;33m\u001b[0m\u001b[1;33m\u001b[0m\u001b[0m\n\u001b[0;32m      2\u001b[0m \u001b[0mbox1\u001b[0m\u001b[1;33m.\u001b[0m\u001b[0minspect\u001b[0m\u001b[1;33m(\u001b[0m \u001b[0mstyle\u001b[0m\u001b[1;33m=\u001b[0m\u001b[1;34m'graph'\u001b[0m\u001b[1;33m)\u001b[0m\u001b[1;33m\u001b[0m\u001b[1;33m\u001b[0m\u001b[0m\n\u001b[1;32m----> 3\u001b[1;33m \u001b[0mbox1\u001b[0m\u001b[1;33m.\u001b[0m\u001b[0mselect\u001b[0m\u001b[1;33m(\u001b[0m\u001b[1;33m)\u001b[0m\u001b[1;33m\u001b[0m\u001b[1;33m\u001b[0m\u001b[0m\n\u001b[0m\u001b[0;32m      4\u001b[0m \u001b[0mfig\u001b[0m \u001b[1;33m=\u001b[0m \u001b[0mbox1\u001b[0m\u001b[1;33m.\u001b[0m\u001b[0mshow_pairs_scatter\u001b[0m\u001b[1;33m(\u001b[0m\u001b[1;33m)\u001b[0m\u001b[1;33m\u001b[0m\u001b[1;33m\u001b[0m\u001b[0m\n\u001b[0;32m      5\u001b[0m \u001b[0mplt\u001b[0m\u001b[1;33m.\u001b[0m\u001b[0mshow\u001b[0m\u001b[1;33m(\u001b[0m\u001b[1;33m)\u001b[0m\u001b[1;33m\u001b[0m\u001b[1;33m\u001b[0m\u001b[0m\n",
      "\u001b[1;31mTypeError\u001b[0m: select() missing 1 required positional argument: 'i'"
     ]
    },
    {
     "data": {
      "image/png": "[encoded data removed]",
      "text/plain": [
       "<Figure size 432x288 with 1 Axes>"
      ]
     },
     "metadata": {},
     "output_type": "display_data"
    }
   ],
   "source": [
    "box1.inspect(1)\n",
    "box1.inspect(1, style='graph')\n",
    "box1.select(1)\n",
    "fig = box1.show_pairs_scatter()\n",
    "plt.show()"
   ]
  },
  {
   "cell_type": "code",
   "execution_count": 184,
   "metadata": {},
   "outputs": [
    {
     "ename": "AttributeError",
     "evalue": "'tuple' object has no attribute 'items'",
     "output_type": "error",
     "traceback": [
      "\u001b[1;31m---------------------------------------------------------------------------\u001b[0m",
      "\u001b[1;31mAttributeError\u001b[0m                            Traceback (most recent call last)",
      "\u001b[1;32m<ipython-input-184-d738372035f9>\u001b[0m in \u001b[0;36m<module>\u001b[1;34m\u001b[0m\n\u001b[0;32m      1\u001b[0m \u001b[0mselected_experiments\u001b[0m \u001b[1;33m=\u001b[0m \u001b[0mexperiments\u001b[0m\u001b[1;33m.\u001b[0m\u001b[0miloc\u001b[0m\u001b[1;33m[\u001b[0m\u001b[0mbox1\u001b[0m\u001b[1;33m.\u001b[0m\u001b[0myi\u001b[0m\u001b[1;33m]\u001b[0m\u001b[1;33m\u001b[0m\u001b[1;33m\u001b[0m\u001b[0m\n\u001b[1;32m----> 2\u001b[1;33m \u001b[0mselected_outcomes\u001b[0m \u001b[1;33m=\u001b[0m \u001b[1;33m{\u001b[0m\u001b[0mk\u001b[0m\u001b[1;33m:\u001b[0m\u001b[0mv\u001b[0m\u001b[1;33m[\u001b[0m\u001b[0mbox1\u001b[0m\u001b[1;33m.\u001b[0m\u001b[0myi\u001b[0m\u001b[1;33m]\u001b[0m \u001b[1;32mfor\u001b[0m \u001b[0mk\u001b[0m\u001b[1;33m,\u001b[0m\u001b[0mv\u001b[0m \u001b[1;32min\u001b[0m \u001b[0mresults\u001b[0m\u001b[1;33m.\u001b[0m\u001b[0mitems\u001b[0m\u001b[1;33m(\u001b[0m\u001b[1;33m)\u001b[0m\u001b[1;33m}\u001b[0m\u001b[1;33m\u001b[0m\u001b[1;33m\u001b[0m\u001b[0m\n\u001b[0m\u001b[0;32m      3\u001b[0m \u001b[0msave_results\u001b[0m\u001b[1;33m(\u001b[0m\u001b[1;33m(\u001b[0m\u001b[0mselected_experiments\u001b[0m\u001b[1;33m,\u001b[0m \u001b[0mselected_outcomes\u001b[0m\u001b[1;33m)\u001b[0m\u001b[1;33m,\u001b[0m \u001b[1;34m'./selected_results.tar.gz'\u001b[0m\u001b[1;33m)\u001b[0m\u001b[1;33m\u001b[0m\u001b[1;33m\u001b[0m\u001b[0m\n",
      "\u001b[1;31mAttributeError\u001b[0m: 'tuple' object has no attribute 'items'"
     ]
    }
   ],
   "source": [
    "selected_experiments = experiments.iloc[box1.yi]\n",
    "selected_outcomes = {k:v[box1.yi] for k,v in results.items()}\n",
    "save_results((selected_experiments, selected_outcomes), './selected_results.tar.gz')"
   ]
  },
  {
   "cell_type": "code",
   "execution_count": 185,
   "metadata": {},
   "outputs": [
    {
     "ename": "FileNotFoundError",
     "evalue": "[Errno 2] No such file or directory: 'C:\\\\Users\\\\patta\\\\OneDrive\\\\Desktop\\\\Model-based decision making\\\\HW\\\\EPA1361_assignments\\\\Week 5-6 - robustness and direct search\\\\selected_results.tar.gz'",
     "output_type": "error",
     "traceback": [
      "\u001b[1;31m---------------------------------------------------------------------------\u001b[0m",
      "\u001b[1;31mFileNotFoundError\u001b[0m                         Traceback (most recent call last)",
      "\u001b[1;32m<ipython-input-185-9e1a94f05cd2>\u001b[0m in \u001b[0;36m<module>\u001b[1;34m\u001b[0m\n\u001b[1;32m----> 1\u001b[1;33m \u001b[0mdata_sr\u001b[0m \u001b[1;33m=\u001b[0m \u001b[0mload_results\u001b[0m\u001b[1;33m(\u001b[0m\u001b[1;34m'./selected_results.tar.gz'\u001b[0m\u001b[1;33m)\u001b[0m\u001b[1;33m\u001b[0m\u001b[1;33m\u001b[0m\u001b[0m\n\u001b[0m\u001b[0;32m      2\u001b[0m \u001b[0mdata_sr\u001b[0m\u001b[1;33m\u001b[0m\u001b[1;33m\u001b[0m\u001b[0m\n",
      "\u001b[1;32mC:\\ProgramData\\Anaconda3\\lib\\site-packages\\ema_workbench\\util\\utilities.py\u001b[0m in \u001b[0;36mload_results\u001b[1;34m(file_name)\u001b[0m\n\u001b[0;32m     61\u001b[0m     \u001b[0mfile_name\u001b[0m \u001b[1;33m=\u001b[0m \u001b[0mos\u001b[0m\u001b[1;33m.\u001b[0m\u001b[0mpath\u001b[0m\u001b[1;33m.\u001b[0m\u001b[0mabspath\u001b[0m\u001b[1;33m(\u001b[0m\u001b[0mfile_name\u001b[0m\u001b[1;33m)\u001b[0m\u001b[1;33m\u001b[0m\u001b[1;33m\u001b[0m\u001b[0m\n\u001b[0;32m     62\u001b[0m     \u001b[0moutcomes\u001b[0m \u001b[1;33m=\u001b[0m \u001b[1;33m{\u001b[0m\u001b[1;33m}\u001b[0m\u001b[1;33m\u001b[0m\u001b[1;33m\u001b[0m\u001b[0m\n\u001b[1;32m---> 63\u001b[1;33m     \u001b[1;32mwith\u001b[0m \u001b[0mtarfile\u001b[0m\u001b[1;33m.\u001b[0m\u001b[0mopen\u001b[0m\u001b[1;33m(\u001b[0m\u001b[0mfile_name\u001b[0m\u001b[1;33m,\u001b[0m \u001b[1;34m'r:gz'\u001b[0m\u001b[1;33m,\u001b[0m \u001b[0mencoding\u001b[0m\u001b[1;33m=\u001b[0m\u001b[1;34m\"UTF8\"\u001b[0m\u001b[1;33m)\u001b[0m \u001b[1;32mas\u001b[0m \u001b[0mz\u001b[0m\u001b[1;33m:\u001b[0m\u001b[1;33m\u001b[0m\u001b[1;33m\u001b[0m\u001b[0m\n\u001b[0m\u001b[0;32m     64\u001b[0m         \u001b[1;31m# load x\u001b[0m\u001b[1;33m\u001b[0m\u001b[1;33m\u001b[0m\u001b[1;33m\u001b[0m\u001b[0m\n\u001b[0;32m     65\u001b[0m         \u001b[0mexperiments\u001b[0m \u001b[1;33m=\u001b[0m \u001b[0mz\u001b[0m\u001b[1;33m.\u001b[0m\u001b[0mextractfile\u001b[0m\u001b[1;33m(\u001b[0m\u001b[1;34m'experiments.csv'\u001b[0m\u001b[1;33m)\u001b[0m\u001b[1;33m\u001b[0m\u001b[1;33m\u001b[0m\u001b[0m\n",
      "\u001b[1;32mC:\\ProgramData\\Anaconda3\\lib\\tarfile.py\u001b[0m in \u001b[0;36mopen\u001b[1;34m(cls, name, mode, fileobj, bufsize, **kwargs)\u001b[0m\n\u001b[0;32m   1617\u001b[0m             \u001b[1;32melse\u001b[0m\u001b[1;33m:\u001b[0m\u001b[1;33m\u001b[0m\u001b[1;33m\u001b[0m\u001b[0m\n\u001b[0;32m   1618\u001b[0m                 \u001b[1;32mraise\u001b[0m \u001b[0mCompressionError\u001b[0m\u001b[1;33m(\u001b[0m\u001b[1;34m\"unknown compression type %r\"\u001b[0m \u001b[1;33m%\u001b[0m \u001b[0mcomptype\u001b[0m\u001b[1;33m)\u001b[0m\u001b[1;33m\u001b[0m\u001b[1;33m\u001b[0m\u001b[0m\n\u001b[1;32m-> 1619\u001b[1;33m             \u001b[1;32mreturn\u001b[0m \u001b[0mfunc\u001b[0m\u001b[1;33m(\u001b[0m\u001b[0mname\u001b[0m\u001b[1;33m,\u001b[0m \u001b[0mfilemode\u001b[0m\u001b[1;33m,\u001b[0m \u001b[0mfileobj\u001b[0m\u001b[1;33m,\u001b[0m \u001b[1;33m**\u001b[0m\u001b[0mkwargs\u001b[0m\u001b[1;33m)\u001b[0m\u001b[1;33m\u001b[0m\u001b[1;33m\u001b[0m\u001b[0m\n\u001b[0m\u001b[0;32m   1620\u001b[0m \u001b[1;33m\u001b[0m\u001b[0m\n\u001b[0;32m   1621\u001b[0m         \u001b[1;32melif\u001b[0m \u001b[1;34m\"|\"\u001b[0m \u001b[1;32min\u001b[0m \u001b[0mmode\u001b[0m\u001b[1;33m:\u001b[0m\u001b[1;33m\u001b[0m\u001b[1;33m\u001b[0m\u001b[0m\n",
      "\u001b[1;32mC:\\ProgramData\\Anaconda3\\lib\\tarfile.py\u001b[0m in \u001b[0;36mgzopen\u001b[1;34m(cls, name, mode, fileobj, compresslevel, **kwargs)\u001b[0m\n\u001b[0;32m   1663\u001b[0m \u001b[1;33m\u001b[0m\u001b[0m\n\u001b[0;32m   1664\u001b[0m         \u001b[1;32mtry\u001b[0m\u001b[1;33m:\u001b[0m\u001b[1;33m\u001b[0m\u001b[1;33m\u001b[0m\u001b[0m\n\u001b[1;32m-> 1665\u001b[1;33m             \u001b[0mfileobj\u001b[0m \u001b[1;33m=\u001b[0m \u001b[0mGzipFile\u001b[0m\u001b[1;33m(\u001b[0m\u001b[0mname\u001b[0m\u001b[1;33m,\u001b[0m \u001b[0mmode\u001b[0m \u001b[1;33m+\u001b[0m \u001b[1;34m\"b\"\u001b[0m\u001b[1;33m,\u001b[0m \u001b[0mcompresslevel\u001b[0m\u001b[1;33m,\u001b[0m \u001b[0mfileobj\u001b[0m\u001b[1;33m)\u001b[0m\u001b[1;33m\u001b[0m\u001b[1;33m\u001b[0m\u001b[0m\n\u001b[0m\u001b[0;32m   1666\u001b[0m         \u001b[1;32mexcept\u001b[0m \u001b[0mOSError\u001b[0m\u001b[1;33m:\u001b[0m\u001b[1;33m\u001b[0m\u001b[1;33m\u001b[0m\u001b[0m\n\u001b[0;32m   1667\u001b[0m             \u001b[1;32mif\u001b[0m \u001b[0mfileobj\u001b[0m \u001b[1;32mis\u001b[0m \u001b[1;32mnot\u001b[0m \u001b[1;32mNone\u001b[0m \u001b[1;32mand\u001b[0m \u001b[0mmode\u001b[0m \u001b[1;33m==\u001b[0m \u001b[1;34m'r'\u001b[0m\u001b[1;33m:\u001b[0m\u001b[1;33m\u001b[0m\u001b[1;33m\u001b[0m\u001b[0m\n",
      "\u001b[1;32mC:\\ProgramData\\Anaconda3\\lib\\gzip.py\u001b[0m in \u001b[0;36m__init__\u001b[1;34m(self, filename, mode, compresslevel, fileobj, mtime)\u001b[0m\n\u001b[0;32m    171\u001b[0m             \u001b[0mmode\u001b[0m \u001b[1;33m+=\u001b[0m \u001b[1;34m'b'\u001b[0m\u001b[1;33m\u001b[0m\u001b[1;33m\u001b[0m\u001b[0m\n\u001b[0;32m    172\u001b[0m         \u001b[1;32mif\u001b[0m \u001b[0mfileobj\u001b[0m \u001b[1;32mis\u001b[0m \u001b[1;32mNone\u001b[0m\u001b[1;33m:\u001b[0m\u001b[1;33m\u001b[0m\u001b[1;33m\u001b[0m\u001b[0m\n\u001b[1;32m--> 173\u001b[1;33m             \u001b[0mfileobj\u001b[0m \u001b[1;33m=\u001b[0m \u001b[0mself\u001b[0m\u001b[1;33m.\u001b[0m\u001b[0mmyfileobj\u001b[0m \u001b[1;33m=\u001b[0m \u001b[0mbuiltins\u001b[0m\u001b[1;33m.\u001b[0m\u001b[0mopen\u001b[0m\u001b[1;33m(\u001b[0m\u001b[0mfilename\u001b[0m\u001b[1;33m,\u001b[0m \u001b[0mmode\u001b[0m \u001b[1;32mor\u001b[0m \u001b[1;34m'rb'\u001b[0m\u001b[1;33m)\u001b[0m\u001b[1;33m\u001b[0m\u001b[1;33m\u001b[0m\u001b[0m\n\u001b[0m\u001b[0;32m    174\u001b[0m         \u001b[1;32mif\u001b[0m \u001b[0mfilename\u001b[0m \u001b[1;32mis\u001b[0m \u001b[1;32mNone\u001b[0m\u001b[1;33m:\u001b[0m\u001b[1;33m\u001b[0m\u001b[1;33m\u001b[0m\u001b[0m\n\u001b[0;32m    175\u001b[0m             \u001b[0mfilename\u001b[0m \u001b[1;33m=\u001b[0m \u001b[0mgetattr\u001b[0m\u001b[1;33m(\u001b[0m\u001b[0mfileobj\u001b[0m\u001b[1;33m,\u001b[0m \u001b[1;34m'name'\u001b[0m\u001b[1;33m,\u001b[0m \u001b[1;34m''\u001b[0m\u001b[1;33m)\u001b[0m\u001b[1;33m\u001b[0m\u001b[1;33m\u001b[0m\u001b[0m\n",
      "\u001b[1;31mFileNotFoundError\u001b[0m: [Errno 2] No such file or directory: 'C:\\\\Users\\\\patta\\\\OneDrive\\\\Desktop\\\\Model-based decision making\\\\HW\\\\EPA1361_assignments\\\\Week 5-6 - robustness and direct search\\\\selected_results.tar.gz'"
     ]
    }
   ],
   "source": [
    "data_sr = load_results('./selected_results.tar.gz')\n",
    "data_sr"
   ]
  }
 ],
 "metadata": {
  "anaconda-cloud": {},
  "kernelspec": {
   "display_name": "Python 3",
   "language": "python",
   "name": "python3"
  },
  "language_info": {
   "codemirror_mode": {
    "name": "ipython",
    "version": 3
   },
   "file_extension": ".py",
   "mimetype": "text/x-python",
   "name": "python",
   "nbconvert_exporter": "python",
   "pygments_lexer": "ipython3",
   "version": "3.8.5"
  },
  "latex_envs": {
   "LaTeX_envs_menu_present": true,
   "autocomplete": true,
   "bibliofile": "biblio.bib",
   "cite_by": "apalike",
   "current_citInitial": 1,
   "eqLabelWithNumbers": true,
   "eqNumInitial": 1,
   "hotkeys": {
    "equation": "Ctrl-E",
    "itemize": "Ctrl-I"
   },
   "labels_anchors": false,
   "latex_user_defs": false,
   "report_style_numbering": false,
   "user_envs_cfg": false
  }
 },
 "nbformat": 4,
 "nbformat_minor": 4
}
