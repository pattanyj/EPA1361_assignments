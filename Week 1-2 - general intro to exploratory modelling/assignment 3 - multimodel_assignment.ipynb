{
 "cells": [
  {
   "cell_type": "markdown",
   "metadata": {},
   "source": [
    "# EPA1361 - Model-Based Decision Making\n",
    "\n",
    "## Multi-model analysis\n",
    "\n",
    "This exercise uses a simple version of the [Lotka-Volterra predator-prey equations](https://en.wikipedia.org/wiki/Lotka%E2%80%93Volterra_equations) to show how the EMA Workbench can be used for a\n",
    "multi-model analysis, in addition to typical parametric/structural uncertainties. This will let you test the connectors provided in the Workbench for Excel, NetLogo, and Vensim / PySD; we'll also use the models for the sensitivity analysis exercise in week 3.\n",
    "\n",
    "* Using the three model files provided and the Python function below, define model objects for each implementation (Excel, NetLogo, Vensim/PySD, and Python), and test them using a single ensemble. Use 50 experiments sampled from the parameters below (so that each experiment will be executed for the 4 models, for a total of 200), and retrieve outputs for the _TIME_, _predators_, and _prey_ variables.\n",
    "    * excel and vensim are only supported on windows\n",
    "    * vensim requires the DSS version of Vensim\n",
    "    * Netlogo supoprt depends on [jpype](http://jpype.readthedocs.io/en/latest/install.html) and [pynetlogo](https://pynetlogo.readthedocs.io/en/latest/). Also, if you don't have NetLogo installed, please get it from [NetLogo 6.1.1](https://ccl.northwestern.edu/netlogo/download.shtml) \n",
    "    * for pysd, see [its documentation](http://pysd.readthedocs.io/en/master/installation.html)\n",
    "    * If possible try to work with all model versions, but even 2 or 3 (pure python and something else should be sufficient).\n",
    "    \n",
    "\n",
    "|Parameter\t|Range or value\t        |\n",
    "|-----------|--------------:|\n",
    "|prey_birth_rate    \t|0.015 – 0.035\t|\n",
    "|predation_rate|0.0005 – 0.003 \t|\n",
    "|predator_efficiency     \t|0.001 – 0.004\t    |\n",
    "|predator_loss_rate\t    |0.04 – 0.08\t    |\n",
    "|Final time\t    |365\t    |\n",
    "|dt\t    |0.25\t    |\n",
    "\n",
    "* Note that your EMA Workbench installation includes example scripts for the different connectors. The different model objects follow a similar syntax but will need to be slightly adjusted depending on the software (e.g. to specify the NetLogo run length or the sheet name in Excel). \n",
    "\n",
    "* These model objects can be used with a replication functionality (for instance to test the effect of stochastic uncertainty in a NetLogo model), which repeats a given experiment over multiple replications. You can use a single replication in this exercise as the models are not stochastic. By default, each outcome array will then have a shape of (# experiments, # replications, # time steps). Try adapting the outcome arrays so that they can be used with the _lines_ plotting function of the Workbench, and plot the results grouped by model.\n",
    "\n",
    "* To check the graphical results, find the maximum absolute error of the time series you obtained for the _prey_ variable in the Excel, NetLogo, and Vensim/PySD models, relative to the Python function. "
   ]
  },
  {
   "cell_type": "code",
   "execution_count": 1,
   "metadata": {
    "jupyter": {
     "outputs_hidden": false
    }
   },
   "outputs": [
    {
     "name": "stderr",
     "output_type": "stream",
     "text": [
      "C:\\ProgramData\\Anaconda3\\lib\\site-packages\\ema_workbench\\em_framework\\optimization.py:48: ImportWarning: platypus based optimization not available\n",
      "  warnings.warn(\"platypus based optimization not available\", ImportWarning)\n",
      "C:\\ProgramData\\Anaconda3\\lib\\site-packages\\ema_workbench\\connectors\\__init__.py:17: ImportWarning: vensim connector not available\n",
      "  warnings.warn(\"vensim connector not available\", ImportWarning)\n"
     ]
    }
   ],
   "source": [
    "import numpy as np\n",
    "import matplotlib.pyplot as plt\n",
    "\n",
    "from ema_workbench import (Model, RealParameter, TimeSeriesOutcome, perform_experiments,\n",
    "                           ema_logging,MultiprocessingEvaluator)\n",
    "\n",
    "from ema_workbench.connectors.netlogo import NetLogoModel\n",
    "from ema_workbench.connectors.excel import ExcelModel\n",
    "from ema_workbench.connectors.pysd_connector import PysdModel\n",
    "\n",
    "from ema_workbench.em_framework.evaluators import LHS, SOBOL, MORRIS\n",
    "\n",
    "from ema_workbench.analysis.plotting import lines, Density\n",
    "\n",
    "\n",
    "def PredPrey(prey_birth_rate=0.025, predation_rate=0.0015, predator_efficiency=0.002,\n",
    "             predator_loss_rate=0.06, initial_prey=50, initial_predators=20, dt=0.25, final_time=365, reps=1):\n",
    "\n",
    "    #Initial values\n",
    "    predators, prey, sim_time = [np.zeros((reps, int(final_time/dt)+1)) for _ in range(3)]\n",
    "    \n",
    "    for r in range(reps):\n",
    "        predators[r,0] = initial_predators\n",
    "        prey[r,0] = initial_prey\n",
    "\n",
    "        #Calculate the time series\n",
    "        for t in range(0, sim_time.shape[1]-1):\n",
    "\n",
    "            dx = (prey_birth_rate*prey[r,t]) - (predation_rate*prey[r,t]*predators[r,t])\n",
    "            dy = (predator_efficiency*predators[r,t]*prey[r,t]) - (predator_loss_rate*predators[r,t])\n",
    "\n",
    "            prey[r,t+1] = max(prey[r,t] + dx*dt, 0)\n",
    "            predators[r,t+1] = max(predators[r,t] + dy*dt, 0)\n",
    "            sim_time[r,t+1] = (t+1)*dt\n",
    "    \n",
    "    #Return outcomes\n",
    "    return {'TIME':sim_time,\n",
    "            'predators':predators,\n",
    "            'prey':prey}"
   ]
  },
  {
   "cell_type": "code",
   "execution_count": 19,
   "metadata": {},
   "outputs": [
    {
     "name": "stderr",
     "output_type": "stream",
     "text": [
      "[MainProcess/INFO] pool started\n",
      "[MainProcess/INFO] performing 1 scenarios * 1 policies * 2 model(s) = 2 experiments\n",
      "[MainProcess/INFO] 1 cases completed\n",
      "[MainProcess/INFO] 2 cases completed\n",
      "[MainProcess/INFO] experiments finished\n",
      "[MainProcess/INFO] terminating pool\n"
     ]
    }
   ],
   "source": [
    "#Python, Netlogo, Excel\n",
    "\n",
    "from __future__ import unicode_literals, absolute_import\n",
    "\n",
    "if __name__ == '__main__':\n",
    "    # turn on logging\n",
    "    ema_logging.log_to_stderr(ema_logging.INFO)\n",
    "\n",
    "    #Netlogo\n",
    "    model_netlogo = NetLogoModel('PredPrey',\n",
    "                         wd=\"./model\",\n",
    "                         model_file=\"PredPrey.nlogo\")\n",
    "    model_netlogo.run_length = 100\n",
    "    model_netlogo.replications = 1\n",
    "\n",
    "    model_netlogo.uncertainties = [RealParameter('prey_birth_rate', 0.015, 0.035),\n",
    "                       RealParameter('predation_rate', 0.0005, 0.003),\n",
    "                       RealParameter('predator_efficiency', 0.001, 0.004),\n",
    "                       RealParameter('predator_loss_rate', 0.04, 0.08)]\n",
    "\n",
    "    model_netlogo.outcomes = [TimeSeriesOutcome('TIME'),\n",
    "                  TimeSeriesOutcome('predators'),\n",
    "                  TimeSeriesOutcome('prey')]\n",
    "    #Python\n",
    "#    model_python = Model('PredPrey', function=PredPrey)\n",
    "\n",
    "#    model_python.uncertainties = [RealParameter('prey_birth_rate', 0.015, 0.035),\n",
    "#                      RealParameter('predation_rate', 0.0005, 0.003),\n",
    "#                       RealParameter('predator_efficiency', 0.001, 0.004),\n",
    "#                       RealParameter('predator_loss_rate', 0.04, 0.08)]\n",
    "\n",
    "#    model_python.outcomes = [TimeSeriesOutcome('TIME'),\n",
    "#                  TimeSeriesOutcome('predators'),\n",
    "#                  TimeSeriesOutcome('prey')]\n",
    "    #Excel\n",
    "    model_excel = ExcelModel('PredPrey',\n",
    "                         wd=\"./model\",\n",
    "                         model_file=\"PredPrey.xlsx\")\n",
    "\n",
    "    model_excel.uncertainties = [RealParameter('prey_birth_rate', 0.015, 0.035),\n",
    "                       RealParameter('predation_rate', 0.0005, 0.003),\n",
    "                       RealParameter('predator_efficiency', 0.001, 0.004),\n",
    "                       RealParameter('predator_loss_rate', 0.04, 0.08)]\n",
    "\n",
    "    model_excel.outcomes  = [TimeSeriesOutcome('TIME'),\n",
    "                  TimeSeriesOutcome('predators'),\n",
    "                  TimeSeriesOutcome('prey')]\n",
    "\n",
    "    model_excel.default_sheet = \"Sheet1\"\n",
    "    \n",
    "    # perform experiments\n",
    "    n = 1\n",
    "\n",
    "    with MultiprocessingEvaluator([model_netlogo, model_excel]) as evaluator:\n",
    "        results = evaluator.perform_experiments(n)"
   ]
  },
  {
   "cell_type": "code",
   "execution_count": 23,
   "metadata": {},
   "outputs": [
    {
     "name": "stdout",
     "output_type": "stream",
     "text": [
      "(   predation_rate  predator_efficiency  predator_loss_rate  prey_birth_rate  \\\n",
      "0         0.00159             0.003797             0.07745           0.0163   \n",
      "1         0.00159             0.003797             0.07745           0.0163   \n",
      "\n",
      "  scenario policy     model  \n",
      "0        2   None  PredPrey  \n",
      "1        2   None  PredPrey  , {'TIME': array([[[0.0000e+00, 2.5000e-01, 5.0000e-01, ..., 3.6450e+02,\n",
      "         3.6475e+02, 3.6500e+02]],\n",
      "\n",
      "       [[0.0000e+00, 2.5000e-01, 5.0000e-01, ..., 3.6450e+02,\n",
      "         3.6475e+02, 3.6500e+02]]]), 'predators': array([[[20.        , 20.56205255, 21.13612023, ...,  0.24524671,\n",
      "          0.2433998 ,  0.24157825]],\n",
      "\n",
      "       [[20.        , 20.56205255, 21.13612023, ...,  0.24524671,\n",
      "          0.2433998 ,  0.24157825]]]), 'prey': array([[[50.        , 49.80634732, 49.60231985, ..., 12.4635738 ,\n",
      "         12.51314818, 12.56292892]],\n",
      "\n",
      "       [[50.        , 49.80634732, 49.60231985, ..., 12.4635738 ,\n",
      "         12.51314818, 12.56292892]]])})\n",
      "   predation_rate  predator_efficiency  predator_loss_rate  prey_birth_rate  \\\n",
      "0         0.00159             0.003797             0.07745           0.0163   \n",
      "1         0.00159             0.003797             0.07745           0.0163   \n",
      "\n",
      "  scenario policy     model  \n",
      "0        2   None  PredPrey  \n",
      "1        2   None  PredPrey  \n",
      "{'TIME': array([[[0.0000e+00, 2.5000e-01, 5.0000e-01, ..., 3.6450e+02,\n",
      "         3.6475e+02, 3.6500e+02]],\n",
      "\n",
      "       [[0.0000e+00, 2.5000e-01, 5.0000e-01, ..., 3.6450e+02,\n",
      "         3.6475e+02, 3.6500e+02]]]), 'predators': array([[[20.        , 20.56205255, 21.13612023, ...,  0.24524671,\n",
      "          0.2433998 ,  0.24157825]],\n",
      "\n",
      "       [[20.        , 20.56205255, 21.13612023, ...,  0.24524671,\n",
      "          0.2433998 ,  0.24157825]]]), 'prey': array([[[50.        , 49.80634732, 49.60231985, ..., 12.4635738 ,\n",
      "         12.51314818, 12.56292892]],\n",
      "\n",
      "       [[50.        , 49.80634732, 49.60231985, ..., 12.4635738 ,\n",
      "         12.51314818, 12.56292892]]])}\n"
     ]
    }
   ],
   "source": [
    "print(results)\n",
    "\n",
    "experiments,outcomes = results\n",
    "print(experiments)\n",
    "print(outcomes)"
   ]
  },
  {
   "cell_type": "code",
   "execution_count": 25,
   "metadata": {},
   "outputs": [
    {
     "ename": "KeyError",
     "evalue": "'TIME'",
     "output_type": "error",
     "traceback": [
      "\u001b[1;31m---------------------------------------------------------------------------\u001b[0m",
      "\u001b[1;31mKeyError\u001b[0m                                  Traceback (most recent call last)",
      "\u001b[1;32m<ipython-input-25-6e3b79b24047>\u001b[0m in \u001b[0;36m<module>\u001b[1;34m\u001b[0m\n\u001b[0;32m      2\u001b[0m \u001b[1;33m\u001b[0m\u001b[0m\n\u001b[0;32m      3\u001b[0m \u001b[1;31m#for outcomes in outcomes.keys():\u001b[0m\u001b[1;33m\u001b[0m\u001b[1;33m\u001b[0m\u001b[1;33m\u001b[0m\u001b[0m\n\u001b[1;32m----> 4\u001b[1;33m \u001b[0mplotting\u001b[0m\u001b[1;33m.\u001b[0m\u001b[0mprepare_data\u001b[0m\u001b[1;33m(\u001b[0m\u001b[0mexperiments\u001b[0m\u001b[1;33m,\u001b[0m \u001b[0moutcomes\u001b[0m\u001b[1;33m,\u001b[0m \u001b[0moutcomes_to_show\u001b[0m\u001b[1;33m=\u001b[0m\u001b[0moutcomes\u001b[0m\u001b[1;33m,\u001b[0m \u001b[0mfilter_scalar\u001b[0m\u001b[1;33m=\u001b[0m\u001b[1;32mTrue\u001b[0m\u001b[1;33m)\u001b[0m\u001b[1;33m\u001b[0m\u001b[1;33m\u001b[0m\u001b[0m\n\u001b[0m\u001b[0;32m      5\u001b[0m plotting.lines(experiments, outcomes, outcomes_to_show=outcomes, \n\u001b[0;32m      6\u001b[0m                    density=plotting_util.Density.HIST)\n",
      "\u001b[1;32mC:\\ProgramData\\Anaconda3\\lib\\site-packages\\ema_workbench\\analysis\\plotting_util.py\u001b[0m in \u001b[0;36mprepare_data\u001b[1;34m(experiments, outcomes, outcomes_to_show, group_by, grouping_specifiers, filter_scalar)\u001b[0m\n\u001b[0;32m    731\u001b[0m \u001b[1;33m\u001b[0m\u001b[0m\n\u001b[0;32m    732\u001b[0m         \u001b[1;32mfor\u001b[0m \u001b[0mentry\u001b[0m \u001b[1;32min\u001b[0m \u001b[0moutcomes_to_show\u001b[0m\u001b[1;33m:\u001b[0m\u001b[1;33m\u001b[0m\u001b[1;33m\u001b[0m\u001b[0m\n\u001b[1;32m--> 733\u001b[1;33m             \u001b[0mtemp_outcomes\u001b[0m\u001b[1;33m[\u001b[0m\u001b[0mentry\u001b[0m\u001b[1;33m]\u001b[0m \u001b[1;33m=\u001b[0m \u001b[0moutcomes\u001b[0m\u001b[1;33m[\u001b[0m\u001b[0mentry\u001b[0m\u001b[1;33m]\u001b[0m\u001b[1;33m\u001b[0m\u001b[1;33m\u001b[0m\u001b[0m\n\u001b[0m\u001b[0;32m    734\u001b[0m \u001b[1;33m\u001b[0m\u001b[0m\n\u001b[0;32m    735\u001b[0m     \u001b[1;31m# filter the outcomes to exclude scalar values\u001b[0m\u001b[1;33m\u001b[0m\u001b[1;33m\u001b[0m\u001b[1;33m\u001b[0m\u001b[0m\n",
      "\u001b[1;31mKeyError\u001b[0m: 'TIME'"
     ]
    }
   ],
   "source": [
    "from ema_workbench.analysis import plotting, plotting_util\n",
    "\n",
    "#for outcomes in outcomes.keys():\n",
    "plotting.prepare_data(experiments, outcomes, outcomes_to_show=outcomes, filter_scalar=True)\n",
    "plotting.lines(experiments, outcomes, outcomes_to_show=outcomes, \n",
    "                   density=plotting_util.Density.HIST)\n",
    "plt.show()"
   ]
  },
  {
   "cell_type": "code",
   "execution_count": null,
   "metadata": {},
   "outputs": [],
   "source": [
    "# Python\n",
    "\n",
    "model_python = Model('PredPrey', function=PredPrey)\n",
    "\n",
    "model_python.uncertainties = [RealParameter('prey_birth_rate', 0.015, 0.035),\n",
    "                       RealParameter('predation_rate', 0.0005, 0.003),\n",
    "                       RealParameter('predator_efficiency', 0.001, 0.004),\n",
    "                       RealParameter('predator_loss_rate', 0.04, 0.08)]\n",
    "\n",
    "model_python.outcomes = [TimeSeriesOutcome('TIME'),\n",
    "                  TimeSeriesOutcome('predators'),\n",
    "                  TimeSeriesOutcome('prey')]\n",
    "\n",
    "# perform experiments\n",
    "n = 1\n",
    "\n",
    "with MultiprocessingEvaluator(model_python) as evaluator:\n",
    "    results_python = evaluator.perform_experiments(n)"
   ]
  },
  {
   "cell_type": "code",
   "execution_count": null,
   "metadata": {
    "scrolled": false
   },
   "outputs": [],
   "source": [
    "#Netlogo \n",
    "\n",
    "from __future__ import unicode_literals, absolute_import\n",
    "\n",
    "if __name__ == '__main__':\n",
    "    # turn on logging\n",
    "    ema_logging.log_to_stderr(ema_logging.INFO)\n",
    "\n",
    "    model_netlogo = NetLogoModel('PredPrey',\n",
    "                         wd=\"./model\",\n",
    "                         model_file=\"PredPrey.nlogo\")\n",
    "    model_netlogo.run_length = 100\n",
    "    model_netlogo.replications = 1\n",
    "\n",
    "    model_netlogo.uncertainties = [RealParameter('prey_birth_rate', 0.015, 0.035),\n",
    "                       RealParameter('predation_rate', 0.0005, 0.003),\n",
    "                       RealParameter('predator_efficiency', 0.001, 0.004),\n",
    "                       RealParameter('predator_loss_rate', 0.04, 0.08)]\n",
    "\n",
    "    model_netlogo.outcomes = [TimeSeriesOutcome('TIME'),\n",
    "                  TimeSeriesOutcome('predators'),\n",
    "                  TimeSeriesOutcome('prey')]\n",
    "\n",
    "    # perform experiments\n",
    "    n = 1\n",
    "\n",
    "    with MultiprocessingEvaluator(model_netlogo) as evaluator:\n",
    "        results_netlogo = evaluator.perform_experiments(n)"
   ]
  },
  {
   "cell_type": "code",
   "execution_count": null,
   "metadata": {},
   "outputs": [],
   "source": [
    "# Excel\n",
    "\n",
    "if __name__ == '__main__':\n",
    "    # turn on logging\n",
    "    ema_logging.log_to_stderr(ema_logging.INFO)\n",
    "\n",
    "    model_excel = ExcelModel('PredPrey',\n",
    "                         wd=\"./model\",\n",
    "                         model_file=\"PredPrey.xlsx\")\n",
    "\n",
    "    model_excel.uncertainties = [RealParameter('prey_birth_rate', 0.015, 0.035),\n",
    "                       RealParameter('predation_rate', 0.0005, 0.003),\n",
    "                       RealParameter('predator_efficiency', 0.001, 0.004),\n",
    "                       RealParameter('predator_loss_rate', 0.04, 0.08)]\n",
    "\n",
    "    model_excel.outcomes  = [TimeSeriesOutcome('TIME'),\n",
    "                  TimeSeriesOutcome('predators'),\n",
    "                  TimeSeriesOutcome('prey')]\n",
    "\n",
    "    # name of the sheet\n",
    "    model_excel.default_sheet = \"Sheet1\"\n",
    "    \n",
    "    # perform experiments\n",
    "    n = 1\n",
    "\n",
    "    with MultiprocessingEvaluator(model_excel) as evaluator:\n",
    "        results_excel = evaluator.perform_experiments(n)"
   ]
  },
  {
   "cell_type": "code",
   "execution_count": null,
   "metadata": {
    "scrolled": true
   },
   "outputs": [],
   "source": [
    "import struct\n",
    "print(struct.calcsize(\"P\") * 8)"
   ]
  },
  {
   "cell_type": "code",
   "execution_count": null,
   "metadata": {},
   "outputs": [],
   "source": [
    "# Vensim\n",
    "from ema_workbench.connectors.vensim import VensimModel\n",
    "\n",
    "if __name__ == \"__main__\":\n",
    "    # turn on logging\n",
    "    ema_logging.log_to_stderr(ema_logging.INFO)\n",
    "\n",
    "    # instantiate a model\n",
    "    wd = './model'\n",
    "    model_vensim = VensimModel('PredPrey',\n",
    "                         wd=\"./model\",\n",
    "                         model_file=\"PredPrey.mdl\")\n",
    "    \n",
    "    model_vensim.uncertainties = [RealParameter('prey_birth_rate', 0.015, 0.035),\n",
    "                       RealParameter('predation_rate', 0.0005, 0.003),\n",
    "                       RealParameter('predator_efficiency', 0.001, 0.004),\n",
    "                       RealParameter('predator_loss_rate', 0.04, 0.08)]\n",
    "\n",
    "    model_vensim.outcomes = [TimeSeriesOutcome('TIME'),\n",
    "                  TimeSeriesOutcome('predators'),\n",
    "                  TimeSeriesOutcome('prey')]\n",
    "\n",
    "    # perform experiments\n",
    "    n = 1\n",
    "\n",
    "    with MultiprocessingEvaluator(model_vensim) as evaluator:\n",
    "        results_excel = evaluator.perform_experiments(n)"
   ]
  },
  {
   "cell_type": "code",
   "execution_count": null,
   "metadata": {},
   "outputs": [],
   "source": [
    "#Visualize results\n",
    "ema_workbench.analysis.plotting.lines(experiments, outcomes, outcomes_to_show=[], group_by=None, grouping_specifiers=None, density='', legend=True, titles={}, ylabels={}, experiments_to_show=None, show_envelope=False, log=False)"
   ]
  }
 ],
 "metadata": {
  "kernelspec": {
   "display_name": "Python 3",
   "language": "python",
   "name": "python3"
  },
  "language_info": {
   "codemirror_mode": {
    "name": "ipython",
    "version": 3
   },
   "file_extension": ".py",
   "mimetype": "text/x-python",
   "name": "python",
   "nbconvert_exporter": "python",
   "pygments_lexer": "ipython3",
   "version": "3.8.5"
  }
 },
 "nbformat": 4,
 "nbformat_minor": 4
}
